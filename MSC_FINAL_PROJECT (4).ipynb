{
 "cells": [
  {
   "cell_type": "markdown",
   "metadata": {},
   "source": [
    "# Analysis of Impact of COVID-19 on Indian Agriculture sector"
   ]
  },
  {
   "cell_type": "markdown",
   "metadata": {},
   "source": [
    "1. Analysis of NABARD all india survey data.\n",
    "2. Analysis APMC Market Data-Maharashtra State\n",
    "3. Predict the Future price of Wheat crop."
   ]
  },
  {
   "cell_type": "markdown",
   "metadata": {},
   "source": [
    "## Import Library"
   ]
  },
  {
   "cell_type": "code",
   "execution_count": 1,
   "metadata": {},
   "outputs": [],
   "source": [
    "import pandas as pd\n",
    "import numpy as np\n",
    "import seaborn as sns\n",
    "import matplotlib.pyplot as plt\n",
    "from matplotlib import style\n",
    "from pandas.plotting import lag_plot\n",
    "from pandas import DataFrame\n",
    "import datetime\n",
    "from statsmodels.tsa.arima_model import ARIMA\n",
    "from sklearn.metrics import mean_squared_error\n",
    "from sklearn.linear_model import LinearRegression\n",
    "from sklearn.model_selection import train_test_split\n",
    "from sklearn.metrics import accuracy_score"
   ]
  },
  {
   "cell_type": "markdown",
   "metadata": {},
   "source": [
    "### Indian State Survey Data-Impact of COVID-19 on Indian Agriculture sector(By National Bank for Agriculture & Rural Development) "
   ]
  },
  {
   "cell_type": "code",
   "execution_count": 2,
   "metadata": {},
   "outputs": [],
   "source": [
    "#import dataset\n",
    "df = pd.read_csv('India State Survey Data.csv')"
   ]
  },
  {
   "cell_type": "code",
   "execution_count": 3,
   "metadata": {},
   "outputs": [
    {
     "data": {
      "text/plain": [
       "Index(['State/U.T.', 'Non Aspirational District', 'Aspirational District',\n",
       "       'Total Districts covered', 'Agricultural production Decreased',\n",
       "       'Agricultural production Increased',\n",
       "       'Agricultural production Remained same',\n",
       "       'Agricultural production Total Districts Covered', 'Agriculture',\n",
       "       'Horticulture', 'Poultry', 'Dairy', 'Fisheries', 'Pig/Sheep/Goat',\n",
       "       'supply of Agri-inputs Decreased', 'supply of Agri-inputs Increased',\n",
       "       'supply of Agri-inputs Remained the same',\n",
       "       'supply of Agri-inputs Total Districts Covered',\n",
       "       'State-wise Increase/Decrease in magnitude of quantity supplied of Agri-inputs Seeds',\n",
       "       'State-wise Increase/Decrease in magnitude of quantity supplied of Agri-inputs Fertilizers',\n",
       "       'State-wise Increase/Decrease in magnitude of quantity supplied of Agri-inputs Pesticides',\n",
       "       'State-wise Increase/Decrease in magnitude of quantity supplied of Agri-inputs Rental Agri- Machinery',\n",
       "       'State-wise Increase/Decrease in magnitude of quantity supplied of Agri-inputs Fodder/Cattle feed',\n",
       "       'Demand or Agri/Rural Labour (No.) Decreased',\n",
       "       'Demand or Agri/Rural Labour (No.) Increased',\n",
       "       'Demand or Agri/Rural Labour (No.) Remained same',\n",
       "       'Demand or Agri/Rural Labour (No.) Total districts covered',\n",
       "       'Farmers Ability to Take Produce to APMC (No.) Favourably Impacted',\n",
       "       'Farmers Ability to Take Produce to APMC (No.) Adversely Impacted',\n",
       "       'Farmers Ability to Take Produce to APMC (No.) No Impact',\n",
       "       'Farmers Ability to Take Produce to APMC (No.) Total districts covered',\n",
       "       'Marketing Impact Score', 'No of districts per state',\n",
       "       'Final Score of the State'],\n",
       "      dtype='object')"
      ]
     },
     "execution_count": 3,
     "metadata": {},
     "output_type": "execute_result"
    }
   ],
   "source": [
    "df.columns"
   ]
  },
  {
   "cell_type": "code",
   "execution_count": 4,
   "metadata": {},
   "outputs": [],
   "source": [
    "df1=df.drop(['Non Aspirational District',\n",
    "             'Aspirational District',\n",
    "             'No of districts per state',\n",
    "             'Horticulture','Fisheries',\n",
    "             'Pig/Sheep/Goat','Agricultural production Total Districts Covered',\n",
    "             'supply of Agri-inputs Total Districts Covered',\n",
    "             'Demand or Agri/Rural Labour (No.) Total districts covered',\n",
    "             ], axis=1)"
   ]
  },
  {
   "cell_type": "code",
   "execution_count": 5,
   "metadata": {},
   "outputs": [],
   "source": [
    "indian_survey=df1.rename({\n",
    "    \"State-wise Increase/Decrease in magnitude of quantity supplied of Agri-inputs Seeds\":\"supply_Seeds\",\n",
    "    \"State-wise Increase/Decrease in magnitude of quantity supplied of Agri-inputs Fertilizers\":\"supply_Fertilizers\",\n",
    "    \"State-wise Increase/Decrease in magnitude of quantity supplied of Agri-inputs Pesticides\":\"supply_Pesticides\",\n",
    "    \"State-wise Increase/Decrease in magnitude of quantity supplied of Agri-inputs Rental Agri- Machinery\":\"supply_Agri- Machinery\",\n",
    "    \"State-wise Increase/Decrease in magnitude of quantity supplied of Agri-inputs Fodder/Cattle feed\":\"supply_Fodder/Cattle_feed\",\n",
    "    \"Farmers Ability to Take Produce to APMC (No.) Favourably Impacted\": \"APMC_Favourably_Impacted\", \n",
    "    \"Farmers Ability to Take Produce to APMC (No.) Adversely Impacted\": \"APMC_Adversely_Impacted\", \n",
    "    \"Farmers Ability to Take Produce to APMC (No.) No Impact\": \"APMC_No_Impact\",\n",
    "    \"Farmers Ability to Take Produce to APMC (No.) Total districts covered\":\"APMC_Total_District\"}, \n",
    "          axis = \"columns\", inplace = False)"
   ]
  },
  {
   "cell_type": "code",
   "execution_count": 6,
   "metadata": {},
   "outputs": [
    {
     "data": {
      "text/plain": [
       "0"
      ]
     },
     "execution_count": 6,
     "metadata": {},
     "output_type": "execute_result"
    }
   ],
   "source": [
    "indian_survey.duplicated().sum()"
   ]
  },
  {
   "cell_type": "code",
   "execution_count": 7,
   "metadata": {},
   "outputs": [
    {
     "data": {
      "text/plain": [
       "State/U.T.                                         0\n",
       "Total Districts covered                            0\n",
       "Agricultural production Decreased                  0\n",
       "Agricultural production Increased                  0\n",
       "Agricultural production Remained same              0\n",
       "Agriculture                                        0\n",
       "Poultry                                            0\n",
       "Dairy                                              0\n",
       "supply of Agri-inputs Decreased                    0\n",
       "supply of Agri-inputs Increased                    0\n",
       "supply of Agri-inputs Remained the same            0\n",
       "supply_Seeds                                       0\n",
       "supply_Fertilizers                                 0\n",
       "supply_Pesticides                                  0\n",
       "supply_Agri- Machinery                             0\n",
       "supply_Fodder/Cattle_feed                          0\n",
       "Demand or Agri/Rural Labour (No.) Decreased        0\n",
       "Demand or Agri/Rural Labour (No.) Increased        0\n",
       "Demand or Agri/Rural Labour (No.) Remained same    0\n",
       "APMC_Favourably_Impacted                           0\n",
       "APMC_Adversely_Impacted                            0\n",
       "APMC_No_Impact                                     0\n",
       "APMC_Total_District                                0\n",
       "Marketing Impact Score                             0\n",
       "Final Score of the State                           0\n",
       "dtype: int64"
      ]
     },
     "execution_count": 7,
     "metadata": {},
     "output_type": "execute_result"
    }
   ],
   "source": [
    "indian_survey.isnull().sum()"
   ]
  },
  {
   "cell_type": "code",
   "execution_count": 8,
   "metadata": {},
   "outputs": [
    {
     "name": "stdout",
     "output_type": "stream",
     "text": [
      "<class 'pandas.core.frame.DataFrame'>\n",
      "RangeIndex: 34 entries, 0 to 33\n",
      "Data columns (total 25 columns):\n",
      " #   Column                                           Non-Null Count  Dtype  \n",
      "---  ------                                           --------------  -----  \n",
      " 0   State/U.T.                                       34 non-null     object \n",
      " 1   Total Districts covered                          34 non-null     int64  \n",
      " 2   Agricultural production Decreased                34 non-null     int64  \n",
      " 3   Agricultural production Increased                34 non-null     int64  \n",
      " 4   Agricultural production Remained same            34 non-null     int64  \n",
      " 5   Agriculture                                      34 non-null     float64\n",
      " 6   Poultry                                          34 non-null     float64\n",
      " 7   Dairy                                            34 non-null     float64\n",
      " 8   supply of Agri-inputs Decreased                  34 non-null     int64  \n",
      " 9   supply of Agri-inputs Increased                  34 non-null     int64  \n",
      " 10  supply of Agri-inputs Remained the same          34 non-null     int64  \n",
      " 11  supply_Seeds                                     34 non-null     float64\n",
      " 12  supply_Fertilizers                               34 non-null     float64\n",
      " 13  supply_Pesticides                                34 non-null     float64\n",
      " 14  supply_Agri- Machinery                           34 non-null     float64\n",
      " 15  supply_Fodder/Cattle_feed                        34 non-null     float64\n",
      " 16  Demand or Agri/Rural Labour (No.) Decreased      34 non-null     int64  \n",
      " 17  Demand or Agri/Rural Labour (No.) Increased      34 non-null     int64  \n",
      " 18  Demand or Agri/Rural Labour (No.) Remained same  34 non-null     int64  \n",
      " 19  APMC_Favourably_Impacted                         34 non-null     int64  \n",
      " 20  APMC_Adversely_Impacted                          34 non-null     int64  \n",
      " 21  APMC_No_Impact                                   34 non-null     int64  \n",
      " 22  APMC_Total_District                              34 non-null     int64  \n",
      " 23  Marketing Impact Score                           34 non-null     int64  \n",
      " 24  Final Score of the State                         34 non-null     float64\n",
      "dtypes: float64(9), int64(15), object(1)\n",
      "memory usage: 6.8+ KB\n"
     ]
    }
   ],
   "source": [
    "indian_survey.info()"
   ]
  },
  {
   "cell_type": "code",
   "execution_count": 9,
   "metadata": {},
   "outputs": [
    {
     "data": {
      "text/html": [
       "<div>\n",
       "<style scoped>\n",
       "    .dataframe tbody tr th:only-of-type {\n",
       "        vertical-align: middle;\n",
       "    }\n",
       "\n",
       "    .dataframe tbody tr th {\n",
       "        vertical-align: top;\n",
       "    }\n",
       "\n",
       "    .dataframe thead th {\n",
       "        text-align: right;\n",
       "    }\n",
       "</style>\n",
       "<table border=\"1\" class=\"dataframe\">\n",
       "  <thead>\n",
       "    <tr style=\"text-align: right;\">\n",
       "      <th></th>\n",
       "      <th>State/U.T.</th>\n",
       "      <th>Total Districts covered</th>\n",
       "      <th>Agricultural production Decreased</th>\n",
       "      <th>Agricultural production Increased</th>\n",
       "      <th>Agricultural production Remained same</th>\n",
       "      <th>Agriculture</th>\n",
       "      <th>Poultry</th>\n",
       "      <th>Dairy</th>\n",
       "      <th>supply of Agri-inputs Decreased</th>\n",
       "      <th>supply of Agri-inputs Increased</th>\n",
       "      <th>...</th>\n",
       "      <th>supply_Fodder/Cattle_feed</th>\n",
       "      <th>Demand or Agri/Rural Labour (No.) Decreased</th>\n",
       "      <th>Demand or Agri/Rural Labour (No.) Increased</th>\n",
       "      <th>Demand or Agri/Rural Labour (No.) Remained same</th>\n",
       "      <th>APMC_Favourably_Impacted</th>\n",
       "      <th>APMC_Adversely_Impacted</th>\n",
       "      <th>APMC_No_Impact</th>\n",
       "      <th>APMC_Total_District</th>\n",
       "      <th>Marketing Impact Score</th>\n",
       "      <th>Final Score of the State</th>\n",
       "    </tr>\n",
       "  </thead>\n",
       "  <tbody>\n",
       "    <tr>\n",
       "      <th>0</th>\n",
       "      <td>Andaman &amp; Nicobar</td>\n",
       "      <td>3</td>\n",
       "      <td>3</td>\n",
       "      <td>0</td>\n",
       "      <td>0</td>\n",
       "      <td>-21.7</td>\n",
       "      <td>-15.0</td>\n",
       "      <td>-20.0</td>\n",
       "      <td>2</td>\n",
       "      <td>0</td>\n",
       "      <td>...</td>\n",
       "      <td>-50.0</td>\n",
       "      <td>0</td>\n",
       "      <td>2</td>\n",
       "      <td>1</td>\n",
       "      <td>0</td>\n",
       "      <td>0</td>\n",
       "      <td>3</td>\n",
       "      <td>3</td>\n",
       "      <td>-13</td>\n",
       "      <td>-4.33</td>\n",
       "    </tr>\n",
       "    <tr>\n",
       "      <th>1</th>\n",
       "      <td>Andhra Pradesh</td>\n",
       "      <td>13</td>\n",
       "      <td>6</td>\n",
       "      <td>4</td>\n",
       "      <td>3</td>\n",
       "      <td>-2.0</td>\n",
       "      <td>-15.9</td>\n",
       "      <td>-0.8</td>\n",
       "      <td>7</td>\n",
       "      <td>1</td>\n",
       "      <td>...</td>\n",
       "      <td>-7.5</td>\n",
       "      <td>2</td>\n",
       "      <td>10</td>\n",
       "      <td>1</td>\n",
       "      <td>5</td>\n",
       "      <td>5</td>\n",
       "      <td>3</td>\n",
       "      <td>13</td>\n",
       "      <td>-46</td>\n",
       "      <td>-3.54</td>\n",
       "    </tr>\n",
       "    <tr>\n",
       "      <th>2</th>\n",
       "      <td>Arunachal Pradesh</td>\n",
       "      <td>9</td>\n",
       "      <td>0</td>\n",
       "      <td>0</td>\n",
       "      <td>9</td>\n",
       "      <td>0.0</td>\n",
       "      <td>15.0</td>\n",
       "      <td>-5.0</td>\n",
       "      <td>9</td>\n",
       "      <td>0</td>\n",
       "      <td>...</td>\n",
       "      <td>-3.9</td>\n",
       "      <td>0</td>\n",
       "      <td>6</td>\n",
       "      <td>3</td>\n",
       "      <td>1</td>\n",
       "      <td>0</td>\n",
       "      <td>8</td>\n",
       "      <td>9</td>\n",
       "      <td>-31</td>\n",
       "      <td>-3.44</td>\n",
       "    </tr>\n",
       "    <tr>\n",
       "      <th>3</th>\n",
       "      <td>Assam</td>\n",
       "      <td>16</td>\n",
       "      <td>12</td>\n",
       "      <td>2</td>\n",
       "      <td>2</td>\n",
       "      <td>-4.2</td>\n",
       "      <td>-2.3</td>\n",
       "      <td>-9.0</td>\n",
       "      <td>15</td>\n",
       "      <td>1</td>\n",
       "      <td>...</td>\n",
       "      <td>-9.4</td>\n",
       "      <td>5</td>\n",
       "      <td>7</td>\n",
       "      <td>4</td>\n",
       "      <td>1</td>\n",
       "      <td>11</td>\n",
       "      <td>4</td>\n",
       "      <td>16</td>\n",
       "      <td>-76</td>\n",
       "      <td>-4.75</td>\n",
       "    </tr>\n",
       "    <tr>\n",
       "      <th>4</th>\n",
       "      <td>Bihar</td>\n",
       "      <td>37</td>\n",
       "      <td>24</td>\n",
       "      <td>8</td>\n",
       "      <td>5</td>\n",
       "      <td>-5.3</td>\n",
       "      <td>-29.9</td>\n",
       "      <td>-10.0</td>\n",
       "      <td>28</td>\n",
       "      <td>2</td>\n",
       "      <td>...</td>\n",
       "      <td>-17.6</td>\n",
       "      <td>11</td>\n",
       "      <td>17</td>\n",
       "      <td>9</td>\n",
       "      <td>4</td>\n",
       "      <td>25</td>\n",
       "      <td>8</td>\n",
       "      <td>37</td>\n",
       "      <td>-164</td>\n",
       "      <td>-4.43</td>\n",
       "    </tr>\n",
       "  </tbody>\n",
       "</table>\n",
       "<p>5 rows × 25 columns</p>\n",
       "</div>"
      ],
      "text/plain": [
       "          State/U.T.  Total Districts covered  \\\n",
       "0  Andaman & Nicobar                        3   \n",
       "1     Andhra Pradesh                       13   \n",
       "2  Arunachal Pradesh                        9   \n",
       "3              Assam                       16   \n",
       "4              Bihar                       37   \n",
       "\n",
       "   Agricultural production Decreased  Agricultural production Increased  \\\n",
       "0                                  3                                  0   \n",
       "1                                  6                                  4   \n",
       "2                                  0                                  0   \n",
       "3                                 12                                  2   \n",
       "4                                 24                                  8   \n",
       "\n",
       "   Agricultural production Remained same  Agriculture  Poultry  Dairy  \\\n",
       "0                                      0        -21.7    -15.0  -20.0   \n",
       "1                                      3         -2.0    -15.9   -0.8   \n",
       "2                                      9          0.0     15.0   -5.0   \n",
       "3                                      2         -4.2     -2.3   -9.0   \n",
       "4                                      5         -5.3    -29.9  -10.0   \n",
       "\n",
       "   supply of Agri-inputs Decreased  supply of Agri-inputs Increased  ...  \\\n",
       "0                                2                                0  ...   \n",
       "1                                7                                1  ...   \n",
       "2                                9                                0  ...   \n",
       "3                               15                                1  ...   \n",
       "4                               28                                2  ...   \n",
       "\n",
       "   supply_Fodder/Cattle_feed  Demand or Agri/Rural Labour (No.) Decreased  \\\n",
       "0                      -50.0                                            0   \n",
       "1                       -7.5                                            2   \n",
       "2                       -3.9                                            0   \n",
       "3                       -9.4                                            5   \n",
       "4                      -17.6                                           11   \n",
       "\n",
       "   Demand or Agri/Rural Labour (No.) Increased  \\\n",
       "0                                            2   \n",
       "1                                           10   \n",
       "2                                            6   \n",
       "3                                            7   \n",
       "4                                           17   \n",
       "\n",
       "   Demand or Agri/Rural Labour (No.) Remained same  APMC_Favourably_Impacted  \\\n",
       "0                                                1                         0   \n",
       "1                                                1                         5   \n",
       "2                                                3                         1   \n",
       "3                                                4                         1   \n",
       "4                                                9                         4   \n",
       "\n",
       "   APMC_Adversely_Impacted  APMC_No_Impact  APMC_Total_District  \\\n",
       "0                        0               3                    3   \n",
       "1                        5               3                   13   \n",
       "2                        0               8                    9   \n",
       "3                       11               4                   16   \n",
       "4                       25               8                   37   \n",
       "\n",
       "   Marketing Impact Score  Final Score of the State  \n",
       "0                     -13                     -4.33  \n",
       "1                     -46                     -3.54  \n",
       "2                     -31                     -3.44  \n",
       "3                     -76                     -4.75  \n",
       "4                    -164                     -4.43  \n",
       "\n",
       "[5 rows x 25 columns]"
      ]
     },
     "execution_count": 9,
     "metadata": {},
     "output_type": "execute_result"
    }
   ],
   "source": [
    "indian_survey.head()"
   ]
  },
  {
   "cell_type": "code",
   "execution_count": 10,
   "metadata": {},
   "outputs": [
    {
     "data": {
      "text/html": [
       "<div>\n",
       "<style scoped>\n",
       "    .dataframe tbody tr th:only-of-type {\n",
       "        vertical-align: middle;\n",
       "    }\n",
       "\n",
       "    .dataframe tbody tr th {\n",
       "        vertical-align: top;\n",
       "    }\n",
       "\n",
       "    .dataframe thead th {\n",
       "        text-align: right;\n",
       "    }\n",
       "</style>\n",
       "<table border=\"1\" class=\"dataframe\">\n",
       "  <thead>\n",
       "    <tr style=\"text-align: right;\">\n",
       "      <th></th>\n",
       "      <th>State/U.T.</th>\n",
       "      <th>Total Districts covered</th>\n",
       "      <th>Agricultural production Decreased</th>\n",
       "      <th>Agricultural production Increased</th>\n",
       "      <th>Agricultural production Remained same</th>\n",
       "      <th>Agriculture</th>\n",
       "      <th>Poultry</th>\n",
       "      <th>Dairy</th>\n",
       "      <th>supply of Agri-inputs Decreased</th>\n",
       "      <th>supply of Agri-inputs Increased</th>\n",
       "      <th>...</th>\n",
       "      <th>supply_Fodder/Cattle_feed</th>\n",
       "      <th>Demand or Agri/Rural Labour (No.) Decreased</th>\n",
       "      <th>Demand or Agri/Rural Labour (No.) Increased</th>\n",
       "      <th>Demand or Agri/Rural Labour (No.) Remained same</th>\n",
       "      <th>APMC_Favourably_Impacted</th>\n",
       "      <th>APMC_Adversely_Impacted</th>\n",
       "      <th>APMC_No_Impact</th>\n",
       "      <th>APMC_Total_District</th>\n",
       "      <th>Marketing Impact Score</th>\n",
       "      <th>Final Score of the State</th>\n",
       "    </tr>\n",
       "  </thead>\n",
       "  <tbody>\n",
       "    <tr>\n",
       "      <th>29</th>\n",
       "      <td>Tripura</td>\n",
       "      <td>6</td>\n",
       "      <td>0</td>\n",
       "      <td>0</td>\n",
       "      <td>6</td>\n",
       "      <td>-5.0</td>\n",
       "      <td>-23.3</td>\n",
       "      <td>-15.0</td>\n",
       "      <td>2</td>\n",
       "      <td>0</td>\n",
       "      <td>...</td>\n",
       "      <td>-20.0</td>\n",
       "      <td>2</td>\n",
       "      <td>0</td>\n",
       "      <td>4</td>\n",
       "      <td>0</td>\n",
       "      <td>0</td>\n",
       "      <td>6</td>\n",
       "      <td>6</td>\n",
       "      <td>-22</td>\n",
       "      <td>-3.67</td>\n",
       "    </tr>\n",
       "    <tr>\n",
       "      <th>30</th>\n",
       "      <td>Uttar Pradesh</td>\n",
       "      <td>65</td>\n",
       "      <td>28</td>\n",
       "      <td>18</td>\n",
       "      <td>19</td>\n",
       "      <td>0.0</td>\n",
       "      <td>-24.7</td>\n",
       "      <td>-5.8</td>\n",
       "      <td>40</td>\n",
       "      <td>5</td>\n",
       "      <td>...</td>\n",
       "      <td>-5.6</td>\n",
       "      <td>19</td>\n",
       "      <td>28</td>\n",
       "      <td>18</td>\n",
       "      <td>15</td>\n",
       "      <td>28</td>\n",
       "      <td>22</td>\n",
       "      <td>65</td>\n",
       "      <td>-201</td>\n",
       "      <td>-3.09</td>\n",
       "    </tr>\n",
       "    <tr>\n",
       "      <th>31</th>\n",
       "      <td>Uttarakhand</td>\n",
       "      <td>12</td>\n",
       "      <td>8</td>\n",
       "      <td>2</td>\n",
       "      <td>2</td>\n",
       "      <td>0.6</td>\n",
       "      <td>-8.6</td>\n",
       "      <td>0.7</td>\n",
       "      <td>7</td>\n",
       "      <td>0</td>\n",
       "      <td>...</td>\n",
       "      <td>-16.0</td>\n",
       "      <td>4</td>\n",
       "      <td>3</td>\n",
       "      <td>5</td>\n",
       "      <td>0</td>\n",
       "      <td>6</td>\n",
       "      <td>6</td>\n",
       "      <td>12</td>\n",
       "      <td>-52</td>\n",
       "      <td>-4.33</td>\n",
       "    </tr>\n",
       "    <tr>\n",
       "      <th>32</th>\n",
       "      <td>West Bengal</td>\n",
       "      <td>17</td>\n",
       "      <td>12</td>\n",
       "      <td>1</td>\n",
       "      <td>4</td>\n",
       "      <td>-1.4</td>\n",
       "      <td>-14.4</td>\n",
       "      <td>-11.9</td>\n",
       "      <td>14</td>\n",
       "      <td>0</td>\n",
       "      <td>...</td>\n",
       "      <td>-19.7</td>\n",
       "      <td>2</td>\n",
       "      <td>9</td>\n",
       "      <td>6</td>\n",
       "      <td>2</td>\n",
       "      <td>7</td>\n",
       "      <td>8</td>\n",
       "      <td>17</td>\n",
       "      <td>-68</td>\n",
       "      <td>-4.00</td>\n",
       "    </tr>\n",
       "    <tr>\n",
       "      <th>33</th>\n",
       "      <td>All India</td>\n",
       "      <td>560</td>\n",
       "      <td>263</td>\n",
       "      <td>108</td>\n",
       "      <td>189</td>\n",
       "      <td>-2.7</td>\n",
       "      <td>-19.6</td>\n",
       "      <td>-6.6</td>\n",
       "      <td>323</td>\n",
       "      <td>26</td>\n",
       "      <td>...</td>\n",
       "      <td>-10.8</td>\n",
       "      <td>139</td>\n",
       "      <td>244</td>\n",
       "      <td>177</td>\n",
       "      <td>68</td>\n",
       "      <td>247</td>\n",
       "      <td>245</td>\n",
       "      <td>560</td>\n",
       "      <td>-1885</td>\n",
       "      <td>-3.37</td>\n",
       "    </tr>\n",
       "  </tbody>\n",
       "</table>\n",
       "<p>5 rows × 25 columns</p>\n",
       "</div>"
      ],
      "text/plain": [
       "       State/U.T.  Total Districts covered  Agricultural production Decreased  \\\n",
       "29        Tripura                        6                                  0   \n",
       "30  Uttar Pradesh                       65                                 28   \n",
       "31    Uttarakhand                       12                                  8   \n",
       "32    West Bengal                       17                                 12   \n",
       "33      All India                      560                                263   \n",
       "\n",
       "    Agricultural production Increased  Agricultural production Remained same  \\\n",
       "29                                  0                                      6   \n",
       "30                                 18                                     19   \n",
       "31                                  2                                      2   \n",
       "32                                  1                                      4   \n",
       "33                                108                                    189   \n",
       "\n",
       "    Agriculture  Poultry  Dairy  supply of Agri-inputs Decreased  \\\n",
       "29         -5.0    -23.3  -15.0                                2   \n",
       "30          0.0    -24.7   -5.8                               40   \n",
       "31          0.6     -8.6    0.7                                7   \n",
       "32         -1.4    -14.4  -11.9                               14   \n",
       "33         -2.7    -19.6   -6.6                              323   \n",
       "\n",
       "    supply of Agri-inputs Increased  ...  supply_Fodder/Cattle_feed  \\\n",
       "29                                0  ...                      -20.0   \n",
       "30                                5  ...                       -5.6   \n",
       "31                                0  ...                      -16.0   \n",
       "32                                0  ...                      -19.7   \n",
       "33                               26  ...                      -10.8   \n",
       "\n",
       "    Demand or Agri/Rural Labour (No.) Decreased  \\\n",
       "29                                            2   \n",
       "30                                           19   \n",
       "31                                            4   \n",
       "32                                            2   \n",
       "33                                          139   \n",
       "\n",
       "    Demand or Agri/Rural Labour (No.) Increased  \\\n",
       "29                                            0   \n",
       "30                                           28   \n",
       "31                                            3   \n",
       "32                                            9   \n",
       "33                                          244   \n",
       "\n",
       "    Demand or Agri/Rural Labour (No.) Remained same  APMC_Favourably_Impacted  \\\n",
       "29                                                4                         0   \n",
       "30                                               18                        15   \n",
       "31                                                5                         0   \n",
       "32                                                6                         2   \n",
       "33                                              177                        68   \n",
       "\n",
       "    APMC_Adversely_Impacted  APMC_No_Impact  APMC_Total_District  \\\n",
       "29                        0               6                    6   \n",
       "30                       28              22                   65   \n",
       "31                        6               6                   12   \n",
       "32                        7               8                   17   \n",
       "33                      247             245                  560   \n",
       "\n",
       "    Marketing Impact Score  Final Score of the State  \n",
       "29                     -22                     -3.67  \n",
       "30                    -201                     -3.09  \n",
       "31                     -52                     -4.33  \n",
       "32                     -68                     -4.00  \n",
       "33                   -1885                     -3.37  \n",
       "\n",
       "[5 rows x 25 columns]"
      ]
     },
     "execution_count": 10,
     "metadata": {},
     "output_type": "execute_result"
    }
   ],
   "source": [
    "indian_survey.tail()"
   ]
  },
  {
   "cell_type": "code",
   "execution_count": 11,
   "metadata": {},
   "outputs": [
    {
     "data": {
      "text/html": [
       "<div>\n",
       "<style scoped>\n",
       "    .dataframe tbody tr th:only-of-type {\n",
       "        vertical-align: middle;\n",
       "    }\n",
       "\n",
       "    .dataframe tbody tr th {\n",
       "        vertical-align: top;\n",
       "    }\n",
       "\n",
       "    .dataframe thead th {\n",
       "        text-align: right;\n",
       "    }\n",
       "</style>\n",
       "<table border=\"1\" class=\"dataframe\">\n",
       "  <thead>\n",
       "    <tr style=\"text-align: right;\">\n",
       "      <th></th>\n",
       "      <th>Total Districts covered</th>\n",
       "      <th>Agricultural production Decreased</th>\n",
       "      <th>Agricultural production Increased</th>\n",
       "      <th>Agricultural production Remained same</th>\n",
       "      <th>Agriculture</th>\n",
       "      <th>Poultry</th>\n",
       "      <th>Dairy</th>\n",
       "      <th>supply of Agri-inputs Decreased</th>\n",
       "      <th>supply of Agri-inputs Increased</th>\n",
       "      <th>supply of Agri-inputs Remained the same</th>\n",
       "      <th>...</th>\n",
       "      <th>supply_Fodder/Cattle_feed</th>\n",
       "      <th>Demand or Agri/Rural Labour (No.) Decreased</th>\n",
       "      <th>Demand or Agri/Rural Labour (No.) Increased</th>\n",
       "      <th>Demand or Agri/Rural Labour (No.) Remained same</th>\n",
       "      <th>APMC_Favourably_Impacted</th>\n",
       "      <th>APMC_Adversely_Impacted</th>\n",
       "      <th>APMC_No_Impact</th>\n",
       "      <th>APMC_Total_District</th>\n",
       "      <th>Marketing Impact Score</th>\n",
       "      <th>Final Score of the State</th>\n",
       "    </tr>\n",
       "  </thead>\n",
       "  <tbody>\n",
       "    <tr>\n",
       "      <th>count</th>\n",
       "      <td>34.000000</td>\n",
       "      <td>34.000000</td>\n",
       "      <td>34.000000</td>\n",
       "      <td>34.000000</td>\n",
       "      <td>34.000000</td>\n",
       "      <td>34.000000</td>\n",
       "      <td>34.000000</td>\n",
       "      <td>34.000000</td>\n",
       "      <td>34.000000</td>\n",
       "      <td>34.000000</td>\n",
       "      <td>...</td>\n",
       "      <td>34.000000</td>\n",
       "      <td>34.000000</td>\n",
       "      <td>34.000000</td>\n",
       "      <td>34.000000</td>\n",
       "      <td>34.000000</td>\n",
       "      <td>34.000000</td>\n",
       "      <td>34.000000</td>\n",
       "      <td>34.000000</td>\n",
       "      <td>34.000000</td>\n",
       "      <td>34.000000</td>\n",
       "    </tr>\n",
       "    <tr>\n",
       "      <th>mean</th>\n",
       "      <td>32.941176</td>\n",
       "      <td>15.470588</td>\n",
       "      <td>6.352941</td>\n",
       "      <td>11.117647</td>\n",
       "      <td>-2.855882</td>\n",
       "      <td>-12.767647</td>\n",
       "      <td>-5.382353</td>\n",
       "      <td>19.000000</td>\n",
       "      <td>1.529412</td>\n",
       "      <td>12.411765</td>\n",
       "      <td>...</td>\n",
       "      <td>-11.585294</td>\n",
       "      <td>8.176471</td>\n",
       "      <td>14.352941</td>\n",
       "      <td>10.411765</td>\n",
       "      <td>4.000000</td>\n",
       "      <td>14.529412</td>\n",
       "      <td>14.411765</td>\n",
       "      <td>32.941176</td>\n",
       "      <td>-110.882353</td>\n",
       "      <td>-3.219118</td>\n",
       "    </tr>\n",
       "    <tr>\n",
       "      <th>std</th>\n",
       "      <td>94.240807</td>\n",
       "      <td>44.401225</td>\n",
       "      <td>18.631811</td>\n",
       "      <td>31.822200</td>\n",
       "      <td>7.846180</td>\n",
       "      <td>11.611612</td>\n",
       "      <td>6.336258</td>\n",
       "      <td>54.387499</td>\n",
       "      <td>4.534282</td>\n",
       "      <td>35.688142</td>\n",
       "      <td>...</td>\n",
       "      <td>10.034037</td>\n",
       "      <td>23.580257</td>\n",
       "      <td>41.349862</td>\n",
       "      <td>29.838066</td>\n",
       "      <td>11.669697</td>\n",
       "      <td>41.816508</td>\n",
       "      <td>41.256858</td>\n",
       "      <td>94.240807</td>\n",
       "      <td>317.690698</td>\n",
       "      <td>1.177227</td>\n",
       "    </tr>\n",
       "    <tr>\n",
       "      <th>min</th>\n",
       "      <td>1.000000</td>\n",
       "      <td>0.000000</td>\n",
       "      <td>0.000000</td>\n",
       "      <td>0.000000</td>\n",
       "      <td>-21.700000</td>\n",
       "      <td>-33.300000</td>\n",
       "      <td>-20.000000</td>\n",
       "      <td>0.000000</td>\n",
       "      <td>0.000000</td>\n",
       "      <td>0.000000</td>\n",
       "      <td>...</td>\n",
       "      <td>-50.000000</td>\n",
       "      <td>0.000000</td>\n",
       "      <td>0.000000</td>\n",
       "      <td>0.000000</td>\n",
       "      <td>0.000000</td>\n",
       "      <td>0.000000</td>\n",
       "      <td>0.000000</td>\n",
       "      <td>1.000000</td>\n",
       "      <td>-1885.000000</td>\n",
       "      <td>-4.750000</td>\n",
       "    </tr>\n",
       "    <tr>\n",
       "      <th>25%</th>\n",
       "      <td>7.250000</td>\n",
       "      <td>0.250000</td>\n",
       "      <td>0.000000</td>\n",
       "      <td>2.000000</td>\n",
       "      <td>-7.075000</td>\n",
       "      <td>-21.400000</td>\n",
       "      <td>-9.375000</td>\n",
       "      <td>5.250000</td>\n",
       "      <td>0.000000</td>\n",
       "      <td>1.000000</td>\n",
       "      <td>...</td>\n",
       "      <td>-14.800000</td>\n",
       "      <td>1.000000</td>\n",
       "      <td>1.000000</td>\n",
       "      <td>1.250000</td>\n",
       "      <td>0.000000</td>\n",
       "      <td>0.250000</td>\n",
       "      <td>3.000000</td>\n",
       "      <td>7.250000</td>\n",
       "      <td>-80.500000</td>\n",
       "      <td>-4.160000</td>\n",
       "    </tr>\n",
       "    <tr>\n",
       "      <th>50%</th>\n",
       "      <td>13.000000</td>\n",
       "      <td>6.500000</td>\n",
       "      <td>1.500000</td>\n",
       "      <td>4.000000</td>\n",
       "      <td>-1.050000</td>\n",
       "      <td>-14.700000</td>\n",
       "      <td>-5.400000</td>\n",
       "      <td>9.500000</td>\n",
       "      <td>0.000000</td>\n",
       "      <td>4.500000</td>\n",
       "      <td>...</td>\n",
       "      <td>-9.300000</td>\n",
       "      <td>2.500000</td>\n",
       "      <td>5.500000</td>\n",
       "      <td>4.000000</td>\n",
       "      <td>1.000000</td>\n",
       "      <td>6.000000</td>\n",
       "      <td>6.000000</td>\n",
       "      <td>13.000000</td>\n",
       "      <td>-46.000000</td>\n",
       "      <td>-3.350000</td>\n",
       "    </tr>\n",
       "    <tr>\n",
       "      <th>75%</th>\n",
       "      <td>22.750000</td>\n",
       "      <td>12.750000</td>\n",
       "      <td>4.000000</td>\n",
       "      <td>9.750000</td>\n",
       "      <td>0.000000</td>\n",
       "      <td>-1.625000</td>\n",
       "      <td>0.000000</td>\n",
       "      <td>11.750000</td>\n",
       "      <td>1.000000</td>\n",
       "      <td>12.000000</td>\n",
       "      <td>...</td>\n",
       "      <td>-5.725000</td>\n",
       "      <td>6.000000</td>\n",
       "      <td>11.500000</td>\n",
       "      <td>7.750000</td>\n",
       "      <td>3.000000</td>\n",
       "      <td>11.750000</td>\n",
       "      <td>10.500000</td>\n",
       "      <td>22.750000</td>\n",
       "      <td>-22.000000</td>\n",
       "      <td>-3.000000</td>\n",
       "    </tr>\n",
       "    <tr>\n",
       "      <th>max</th>\n",
       "      <td>560.000000</td>\n",
       "      <td>263.000000</td>\n",
       "      <td>108.000000</td>\n",
       "      <td>189.000000</td>\n",
       "      <td>23.300000</td>\n",
       "      <td>15.000000</td>\n",
       "      <td>4.200000</td>\n",
       "      <td>323.000000</td>\n",
       "      <td>26.000000</td>\n",
       "      <td>211.000000</td>\n",
       "      <td>...</td>\n",
       "      <td>0.000000</td>\n",
       "      <td>139.000000</td>\n",
       "      <td>244.000000</td>\n",
       "      <td>177.000000</td>\n",
       "      <td>68.000000</td>\n",
       "      <td>247.000000</td>\n",
       "      <td>245.000000</td>\n",
       "      <td>560.000000</td>\n",
       "      <td>0.000000</td>\n",
       "      <td>0.000000</td>\n",
       "    </tr>\n",
       "  </tbody>\n",
       "</table>\n",
       "<p>8 rows × 24 columns</p>\n",
       "</div>"
      ],
      "text/plain": [
       "       Total Districts covered  Agricultural production Decreased  \\\n",
       "count                34.000000                          34.000000   \n",
       "mean                 32.941176                          15.470588   \n",
       "std                  94.240807                          44.401225   \n",
       "min                   1.000000                           0.000000   \n",
       "25%                   7.250000                           0.250000   \n",
       "50%                  13.000000                           6.500000   \n",
       "75%                  22.750000                          12.750000   \n",
       "max                 560.000000                         263.000000   \n",
       "\n",
       "       Agricultural production Increased  \\\n",
       "count                          34.000000   \n",
       "mean                            6.352941   \n",
       "std                            18.631811   \n",
       "min                             0.000000   \n",
       "25%                             0.000000   \n",
       "50%                             1.500000   \n",
       "75%                             4.000000   \n",
       "max                           108.000000   \n",
       "\n",
       "       Agricultural production Remained same  Agriculture    Poultry  \\\n",
       "count                              34.000000    34.000000  34.000000   \n",
       "mean                               11.117647    -2.855882 -12.767647   \n",
       "std                                31.822200     7.846180  11.611612   \n",
       "min                                 0.000000   -21.700000 -33.300000   \n",
       "25%                                 2.000000    -7.075000 -21.400000   \n",
       "50%                                 4.000000    -1.050000 -14.700000   \n",
       "75%                                 9.750000     0.000000  -1.625000   \n",
       "max                               189.000000    23.300000  15.000000   \n",
       "\n",
       "           Dairy  supply of Agri-inputs Decreased  \\\n",
       "count  34.000000                        34.000000   \n",
       "mean   -5.382353                        19.000000   \n",
       "std     6.336258                        54.387499   \n",
       "min   -20.000000                         0.000000   \n",
       "25%    -9.375000                         5.250000   \n",
       "50%    -5.400000                         9.500000   \n",
       "75%     0.000000                        11.750000   \n",
       "max     4.200000                       323.000000   \n",
       "\n",
       "       supply of Agri-inputs Increased  \\\n",
       "count                        34.000000   \n",
       "mean                          1.529412   \n",
       "std                           4.534282   \n",
       "min                           0.000000   \n",
       "25%                           0.000000   \n",
       "50%                           0.000000   \n",
       "75%                           1.000000   \n",
       "max                          26.000000   \n",
       "\n",
       "       supply of Agri-inputs Remained the same  ...  \\\n",
       "count                                34.000000  ...   \n",
       "mean                                 12.411765  ...   \n",
       "std                                  35.688142  ...   \n",
       "min                                   0.000000  ...   \n",
       "25%                                   1.000000  ...   \n",
       "50%                                   4.500000  ...   \n",
       "75%                                  12.000000  ...   \n",
       "max                                 211.000000  ...   \n",
       "\n",
       "       supply_Fodder/Cattle_feed  Demand or Agri/Rural Labour (No.) Decreased  \\\n",
       "count                  34.000000                                    34.000000   \n",
       "mean                  -11.585294                                     8.176471   \n",
       "std                    10.034037                                    23.580257   \n",
       "min                   -50.000000                                     0.000000   \n",
       "25%                   -14.800000                                     1.000000   \n",
       "50%                    -9.300000                                     2.500000   \n",
       "75%                    -5.725000                                     6.000000   \n",
       "max                     0.000000                                   139.000000   \n",
       "\n",
       "       Demand or Agri/Rural Labour (No.) Increased  \\\n",
       "count                                    34.000000   \n",
       "mean                                     14.352941   \n",
       "std                                      41.349862   \n",
       "min                                       0.000000   \n",
       "25%                                       1.000000   \n",
       "50%                                       5.500000   \n",
       "75%                                      11.500000   \n",
       "max                                     244.000000   \n",
       "\n",
       "       Demand or Agri/Rural Labour (No.) Remained same  \\\n",
       "count                                        34.000000   \n",
       "mean                                         10.411765   \n",
       "std                                          29.838066   \n",
       "min                                           0.000000   \n",
       "25%                                           1.250000   \n",
       "50%                                           4.000000   \n",
       "75%                                           7.750000   \n",
       "max                                         177.000000   \n",
       "\n",
       "       APMC_Favourably_Impacted  APMC_Adversely_Impacted  APMC_No_Impact  \\\n",
       "count                 34.000000                34.000000       34.000000   \n",
       "mean                   4.000000                14.529412       14.411765   \n",
       "std                   11.669697                41.816508       41.256858   \n",
       "min                    0.000000                 0.000000        0.000000   \n",
       "25%                    0.000000                 0.250000        3.000000   \n",
       "50%                    1.000000                 6.000000        6.000000   \n",
       "75%                    3.000000                11.750000       10.500000   \n",
       "max                   68.000000               247.000000      245.000000   \n",
       "\n",
       "       APMC_Total_District  Marketing Impact Score  Final Score of the State  \n",
       "count            34.000000               34.000000                 34.000000  \n",
       "mean             32.941176             -110.882353                 -3.219118  \n",
       "std              94.240807              317.690698                  1.177227  \n",
       "min               1.000000            -1885.000000                 -4.750000  \n",
       "25%               7.250000              -80.500000                 -4.160000  \n",
       "50%              13.000000              -46.000000                 -3.350000  \n",
       "75%              22.750000              -22.000000                 -3.000000  \n",
       "max             560.000000                0.000000                  0.000000  \n",
       "\n",
       "[8 rows x 24 columns]"
      ]
     },
     "execution_count": 11,
     "metadata": {},
     "output_type": "execute_result"
    }
   ],
   "source": [
    "indian_survey.describe()"
   ]
  },
  {
   "cell_type": "markdown",
   "metadata": {},
   "source": [
    "## Visualization "
   ]
  },
  {
   "cell_type": "code",
   "execution_count": 12,
   "metadata": {},
   "outputs": [
    {
     "data": {
      "text/plain": [
       "<matplotlib.axes._subplots.AxesSubplot at 0x1ed1c920280>"
      ]
     },
     "execution_count": 12,
     "metadata": {},
     "output_type": "execute_result"
    },
    {
     "data": {
      "image/png": "[encoded data removed]",
      "text/plain": [
       "<Figure size 1296x360 with 1 Axes>"
      ]
     },
     "metadata": {
      "needs_background": "light"
     },
     "output_type": "display_data"
    }
   ],
   "source": [
    "df5=indian_survey.iloc[0:33]\n",
    "df5.plot(x=\"State/U.T.\", y=[\"Agricultural production Decreased\",\"Agricultural production Increased\",\"Agricultural production Remained same\"], kind=\"bar\",fontsize=10,figsize=(18,5))"
   ]
  },
  {
   "cell_type": "markdown",
   "metadata": {},
   "source": [
    "### Impact of COVID-19 on Agriculture Sector-->Agricultural production Decreased due to lockdown"
   ]
  },
  {
   "cell_type": "code",
   "execution_count": 13,
   "metadata": {},
   "outputs": [
    {
     "data": {
      "text/plain": [
       "<matplotlib.axes._subplots.AxesSubplot at 0x1ed1cd25f40>"
      ]
     },
     "execution_count": 13,
     "metadata": {},
     "output_type": "execute_result"
    },
    {
     "data": {
      "image/png": "[encoded data removed]",
      "text/plain": [
       "<Figure size 1296x360 with 1 Axes>"
      ]
     },
     "metadata": {
      "needs_background": "light"
     },
     "output_type": "display_data"
    }
   ],
   "source": [
    "df5.plot(x=\"State/U.T.\", y=[\"supply of Agri-inputs Decreased\",\"supply of Agri-inputs Increased\",\"supply of Agri-inputs Remained the same\"], kind=\"bar\",fontsize=10,figsize=(18,5))"
   ]
  },
  {
   "cell_type": "markdown",
   "metadata": {},
   "source": [
    "### Impact of COVID-19 on Agriculture Sector-->supply of Agri-inputs Decreased due to lockdown"
   ]
  },
  {
   "cell_type": "code",
   "execution_count": 14,
   "metadata": {},
   "outputs": [
    {
     "data": {
      "text/html": [
       "<div>\n",
       "<style scoped>\n",
       "    .dataframe tbody tr th:only-of-type {\n",
       "        vertical-align: middle;\n",
       "    }\n",
       "\n",
       "    .dataframe tbody tr th {\n",
       "        vertical-align: top;\n",
       "    }\n",
       "\n",
       "    .dataframe thead th {\n",
       "        text-align: right;\n",
       "    }\n",
       "</style>\n",
       "<table border=\"1\" class=\"dataframe\">\n",
       "  <thead>\n",
       "    <tr style=\"text-align: right;\">\n",
       "      <th></th>\n",
       "      <th>State/U.T.</th>\n",
       "      <th>Agricultural production Decreased</th>\n",
       "      <th>supply of Agri-inputs Decreased</th>\n",
       "    </tr>\n",
       "  </thead>\n",
       "  <tbody>\n",
       "    <tr>\n",
       "      <th>30</th>\n",
       "      <td>Uttar Pradesh</td>\n",
       "      <td>28</td>\n",
       "      <td>40</td>\n",
       "    </tr>\n",
       "    <tr>\n",
       "      <th>4</th>\n",
       "      <td>Bihar</td>\n",
       "      <td>24</td>\n",
       "      <td>28</td>\n",
       "    </tr>\n",
       "    <tr>\n",
       "      <th>16</th>\n",
       "      <td>Madhya Pradesh</td>\n",
       "      <td>23</td>\n",
       "      <td>27</td>\n",
       "    </tr>\n",
       "    <tr>\n",
       "      <th>17</th>\n",
       "      <td>Maharashtra</td>\n",
       "      <td>18</td>\n",
       "      <td>19</td>\n",
       "    </tr>\n",
       "    <tr>\n",
       "      <th>13</th>\n",
       "      <td>Jharkhand</td>\n",
       "      <td>16</td>\n",
       "      <td>13</td>\n",
       "    </tr>\n",
       "  </tbody>\n",
       "</table>\n",
       "</div>"
      ],
      "text/plain": [
       "        State/U.T.  Agricultural production Decreased  \\\n",
       "30   Uttar Pradesh                                 28   \n",
       "4            Bihar                                 24   \n",
       "16  Madhya Pradesh                                 23   \n",
       "17     Maharashtra                                 18   \n",
       "13       Jharkhand                                 16   \n",
       "\n",
       "    supply of Agri-inputs Decreased  \n",
       "30                               40  \n",
       "4                                28  \n",
       "16                               27  \n",
       "17                               19  \n",
       "13                               13  "
      ]
     },
     "execution_count": 14,
     "metadata": {},
     "output_type": "execute_result"
    }
   ],
   "source": [
    "agriculture_production_decrease=df5.nlargest(5,['Agricultural production Decreased','supply of Agri-inputs Decreased'])\n",
    "agri_decr=agriculture_production_decrease.loc[:,[\"State/U.T.\",\"Agricultural production Decreased\",\"supply of Agri-inputs Decreased\"]]\n",
    "agri_decr"
   ]
  },
  {
   "cell_type": "markdown",
   "metadata": {},
   "source": [
    "### These are the 5 States that are affected most due to the COVID 19 lockdown"
   ]
  },
  {
   "cell_type": "code",
   "execution_count": 15,
   "metadata": {},
   "outputs": [
    {
     "data": {
      "text/plain": [
       "<matplotlib.axes._subplots.AxesSubplot at 0x1ed1d254760>"
      ]
     },
     "execution_count": 15,
     "metadata": {},
     "output_type": "execute_result"
    },
    {
     "data": {
      "image/png": "[encoded data removed]",
      "text/plain": [
       "<Figure size 1296x360 with 1 Axes>"
      ]
     },
     "metadata": {
      "needs_background": "light"
     },
     "output_type": "display_data"
    }
   ],
   "source": [
    "df5.plot(x=\"State/U.T.\", y=[\"Demand or Agri/Rural Labour (No.) Decreased\",\"Demand or Agri/Rural Labour (No.) Increased\",\"Demand or Agri/Rural Labour (No.) Remained same\"], kind=\"bar\",fontsize=10,figsize=(18,5))"
   ]
  },
  {
   "cell_type": "markdown",
   "metadata": {},
   "source": [
    "### Due to the lockdown Demand of Labour increase in the states"
   ]
  },
  {
   "cell_type": "code",
   "execution_count": 16,
   "metadata": {},
   "outputs": [
    {
     "data": {
      "text/html": [
       "<div>\n",
       "<style scoped>\n",
       "    .dataframe tbody tr th:only-of-type {\n",
       "        vertical-align: middle;\n",
       "    }\n",
       "\n",
       "    .dataframe tbody tr th {\n",
       "        vertical-align: top;\n",
       "    }\n",
       "\n",
       "    .dataframe thead th {\n",
       "        text-align: right;\n",
       "    }\n",
       "</style>\n",
       "<table border=\"1\" class=\"dataframe\">\n",
       "  <thead>\n",
       "    <tr style=\"text-align: right;\">\n",
       "      <th></th>\n",
       "      <th>State/U.T.</th>\n",
       "      <th>Demand or Agri/Rural Labour (No.) Increased</th>\n",
       "    </tr>\n",
       "  </thead>\n",
       "  <tbody>\n",
       "    <tr>\n",
       "      <th>16</th>\n",
       "      <td>Madhya Pradesh</td>\n",
       "      <td>30</td>\n",
       "    </tr>\n",
       "    <tr>\n",
       "      <th>30</th>\n",
       "      <td>Uttar Pradesh</td>\n",
       "      <td>28</td>\n",
       "    </tr>\n",
       "    <tr>\n",
       "      <th>17</th>\n",
       "      <td>Maharashtra</td>\n",
       "      <td>19</td>\n",
       "    </tr>\n",
       "    <tr>\n",
       "      <th>10</th>\n",
       "      <td>Haryana</td>\n",
       "      <td>18</td>\n",
       "    </tr>\n",
       "    <tr>\n",
       "      <th>4</th>\n",
       "      <td>Bihar</td>\n",
       "      <td>17</td>\n",
       "    </tr>\n",
       "  </tbody>\n",
       "</table>\n",
       "</div>"
      ],
      "text/plain": [
       "        State/U.T.  Demand or Agri/Rural Labour (No.) Increased\n",
       "16  Madhya Pradesh                                           30\n",
       "30   Uttar Pradesh                                           28\n",
       "17     Maharashtra                                           19\n",
       "10         Haryana                                           18\n",
       "4            Bihar                                           17"
      ]
     },
     "execution_count": 16,
     "metadata": {},
     "output_type": "execute_result"
    }
   ],
   "source": [
    "agri_labour=df5.nlargest(5,['Demand or Agri/Rural Labour (No.) Increased'])\n",
    "agri_labour_increase=agri_labour.loc[:,[\"State/U.T.\",\"Demand or Agri/Rural Labour (No.) Increased\"]]\n",
    "agri_labour_increase"
   ]
  },
  {
   "cell_type": "code",
   "execution_count": 17,
   "metadata": {},
   "outputs": [
    {
     "data": {
      "text/plain": [
       "<matplotlib.axes._subplots.AxesSubplot at 0x1ed1d196b50>"
      ]
     },
     "execution_count": 17,
     "metadata": {},
     "output_type": "execute_result"
    },
    {
     "data": {
      "image/png": "[encoded data removed]",
      "text/plain": [
       "<Figure size 1296x360 with 1 Axes>"
      ]
     },
     "metadata": {
      "needs_background": "light"
     },
     "output_type": "display_data"
    }
   ],
   "source": [
    "df5.plot(x=\"State/U.T.\", y=[\"APMC_Favourably_Impacted\",\"APMC_Adversely_Impacted\",\"APMC_No_Impact\"], kind=\"bar\",fontsize=10,figsize=(18,5))"
   ]
  },
  {
   "cell_type": "markdown",
   "metadata": {},
   "source": [
    "## These are the 5 States where APMC market affected most due to the COVID 19 lockdown\n",
    "\n",
    "#### Note:-There are about 2477 principal regulated markets based on geography (the APMCs) and 4843 sub-market yards regulated by the respective APMCs in India.\n",
    "\n",
    "#### APMC:Agricultural Produce Market Committee "
   ]
  },
  {
   "cell_type": "code",
   "execution_count": 18,
   "metadata": {},
   "outputs": [
    {
     "data": {
      "text/html": [
       "<div>\n",
       "<style scoped>\n",
       "    .dataframe tbody tr th:only-of-type {\n",
       "        vertical-align: middle;\n",
       "    }\n",
       "\n",
       "    .dataframe tbody tr th {\n",
       "        vertical-align: top;\n",
       "    }\n",
       "\n",
       "    .dataframe thead th {\n",
       "        text-align: right;\n",
       "    }\n",
       "</style>\n",
       "<table border=\"1\" class=\"dataframe\">\n",
       "  <thead>\n",
       "    <tr style=\"text-align: right;\">\n",
       "      <th></th>\n",
       "      <th>State/U.T.</th>\n",
       "      <th>APMC_Adversely_Impacted</th>\n",
       "    </tr>\n",
       "  </thead>\n",
       "  <tbody>\n",
       "    <tr>\n",
       "      <th>30</th>\n",
       "      <td>Uttar Pradesh</td>\n",
       "      <td>28</td>\n",
       "    </tr>\n",
       "    <tr>\n",
       "      <th>17</th>\n",
       "      <td>Maharashtra</td>\n",
       "      <td>26</td>\n",
       "    </tr>\n",
       "    <tr>\n",
       "      <th>4</th>\n",
       "      <td>Bihar</td>\n",
       "      <td>25</td>\n",
       "    </tr>\n",
       "    <tr>\n",
       "      <th>16</th>\n",
       "      <td>Madhya Pradesh</td>\n",
       "      <td>21</td>\n",
       "    </tr>\n",
       "    <tr>\n",
       "      <th>25</th>\n",
       "      <td>Rajasthan</td>\n",
       "      <td>14</td>\n",
       "    </tr>\n",
       "    <tr>\n",
       "      <th>9</th>\n",
       "      <td>Gujarat</td>\n",
       "      <td>13</td>\n",
       "    </tr>\n",
       "    <tr>\n",
       "      <th>10</th>\n",
       "      <td>Haryana</td>\n",
       "      <td>12</td>\n",
       "    </tr>\n",
       "    <tr>\n",
       "      <th>24</th>\n",
       "      <td>Punjab</td>\n",
       "      <td>12</td>\n",
       "    </tr>\n",
       "    <tr>\n",
       "      <th>3</th>\n",
       "      <td>Assam</td>\n",
       "      <td>11</td>\n",
       "    </tr>\n",
       "    <tr>\n",
       "      <th>22</th>\n",
       "      <td>Odisha</td>\n",
       "      <td>11</td>\n",
       "    </tr>\n",
       "  </tbody>\n",
       "</table>\n",
       "</div>"
      ],
      "text/plain": [
       "        State/U.T.  APMC_Adversely_Impacted\n",
       "30   Uttar Pradesh                       28\n",
       "17     Maharashtra                       26\n",
       "4            Bihar                       25\n",
       "16  Madhya Pradesh                       21\n",
       "25       Rajasthan                       14\n",
       "9          Gujarat                       13\n",
       "10         Haryana                       12\n",
       "24          Punjab                       12\n",
       "3            Assam                       11\n",
       "22          Odisha                       11"
      ]
     },
     "execution_count": 18,
     "metadata": {},
     "output_type": "execute_result"
    }
   ],
   "source": [
    "apmc=df5.nlargest(10,['APMC_Adversely_Impacted'])\n",
    "agri_impact=apmc.loc[:,[\"State/U.T.\",\"APMC_Adversely_Impacted\"]]\n",
    "agri_impact"
   ]
  },
  {
   "cell_type": "markdown",
   "metadata": {},
   "source": [
    "### These are the States that are affected most due to the COVID 19 lockdown"
   ]
  },
  {
   "cell_type": "code",
   "execution_count": 19,
   "metadata": {},
   "outputs": [
    {
     "data": {
      "image/png": "[encoded data removed]",
      "text/plain": [
       "<Figure size 1080x1080 with 1 Axes>"
      ]
     },
     "metadata": {
      "needs_background": "light"
     },
     "output_type": "display_data"
    }
   ],
   "source": [
    "plt.figure(figsize= (15,15))\n",
    "marketing_impact=sns.barplot(x=df5['Marketing Impact Score'],y=df5[\"State/U.T.\"],orient='h');\n",
    "marketing_impact.set_title('All state APMC Market Impact Score');"
   ]
  },
  {
   "cell_type": "code",
   "execution_count": 20,
   "metadata": {},
   "outputs": [
    {
     "data": {
      "text/html": [
       "<div>\n",
       "<style scoped>\n",
       "    .dataframe tbody tr th:only-of-type {\n",
       "        vertical-align: middle;\n",
       "    }\n",
       "\n",
       "    .dataframe tbody tr th {\n",
       "        vertical-align: top;\n",
       "    }\n",
       "\n",
       "    .dataframe thead th {\n",
       "        text-align: right;\n",
       "    }\n",
       "</style>\n",
       "<table border=\"1\" class=\"dataframe\">\n",
       "  <thead>\n",
       "    <tr style=\"text-align: right;\">\n",
       "      <th></th>\n",
       "      <th>State/U.T.</th>\n",
       "      <th>APMC_Adversely_Impacted</th>\n",
       "      <th>Marketing Impact Score</th>\n",
       "    </tr>\n",
       "  </thead>\n",
       "  <tbody>\n",
       "    <tr>\n",
       "      <th>30</th>\n",
       "      <td>Uttar Pradesh</td>\n",
       "      <td>28</td>\n",
       "      <td>-201</td>\n",
       "    </tr>\n",
       "    <tr>\n",
       "      <th>17</th>\n",
       "      <td>Maharashtra</td>\n",
       "      <td>26</td>\n",
       "      <td>-155</td>\n",
       "    </tr>\n",
       "    <tr>\n",
       "      <th>4</th>\n",
       "      <td>Bihar</td>\n",
       "      <td>25</td>\n",
       "      <td>-164</td>\n",
       "    </tr>\n",
       "    <tr>\n",
       "      <th>16</th>\n",
       "      <td>Madhya Pradesh</td>\n",
       "      <td>21</td>\n",
       "      <td>-175</td>\n",
       "    </tr>\n",
       "    <tr>\n",
       "      <th>25</th>\n",
       "      <td>Rajasthan</td>\n",
       "      <td>14</td>\n",
       "      <td>-97</td>\n",
       "    </tr>\n",
       "    <tr>\n",
       "      <th>9</th>\n",
       "      <td>Gujarat</td>\n",
       "      <td>13</td>\n",
       "      <td>-83</td>\n",
       "    </tr>\n",
       "    <tr>\n",
       "      <th>24</th>\n",
       "      <td>Punjab</td>\n",
       "      <td>12</td>\n",
       "      <td>-67</td>\n",
       "    </tr>\n",
       "    <tr>\n",
       "      <th>10</th>\n",
       "      <td>Haryana</td>\n",
       "      <td>12</td>\n",
       "      <td>-72</td>\n",
       "    </tr>\n",
       "    <tr>\n",
       "      <th>3</th>\n",
       "      <td>Assam</td>\n",
       "      <td>11</td>\n",
       "      <td>-76</td>\n",
       "    </tr>\n",
       "    <tr>\n",
       "      <th>22</th>\n",
       "      <td>Odisha</td>\n",
       "      <td>11</td>\n",
       "      <td>-85</td>\n",
       "    </tr>\n",
       "  </tbody>\n",
       "</table>\n",
       "</div>"
      ],
      "text/plain": [
       "        State/U.T.  APMC_Adversely_Impacted  Marketing Impact Score\n",
       "30   Uttar Pradesh                       28                    -201\n",
       "17     Maharashtra                       26                    -155\n",
       "4            Bihar                       25                    -164\n",
       "16  Madhya Pradesh                       21                    -175\n",
       "25       Rajasthan                       14                     -97\n",
       "9          Gujarat                       13                     -83\n",
       "24          Punjab                       12                     -67\n",
       "10         Haryana                       12                     -72\n",
       "3            Assam                       11                     -76\n",
       "22          Odisha                       11                     -85"
      ]
     },
     "execution_count": 20,
     "metadata": {},
     "output_type": "execute_result"
    }
   ],
   "source": [
    "apmc_score=df5.nlargest(10,['APMC_Adversely_Impacted','Marketing Impact Score'])\n",
    "score_impact=apmc_score.loc[:,[\"State/U.T.\",\"APMC_Adversely_Impacted\",\"Marketing Impact Score\"]]\n",
    "score_impact"
   ]
  },
  {
   "cell_type": "markdown",
   "metadata": {},
   "source": [
    "# Summary of  visualization"
   ]
  },
  {
   "cell_type": "code",
   "execution_count": 21,
   "metadata": {},
   "outputs": [
    {
     "name": "stdout",
     "output_type": "stream",
     "text": [
      "+----------------+--------------------+------------------------------+--------------+--------------------+\n",
      "|   State/U.T.   | Agriculture Impact | Supply of Agri-inputs Impact | Labor Impact | APMC Market Impact |\n",
      "+----------------+--------------------+------------------------------+--------------+--------------------+\n",
      "| Uttar Pradesh  |        Yes         |             Yes              |     Yes      |      Impacted      |\n",
      "|  Maharashtra   |        Yes         |             Yes              |     Yes      |      Impacted      |\n",
      "|     Bihar      |        Yes         |             Yes              |     Yes      |      Impacted      |\n",
      "| Madhya Pradesh |        Yes         |             Yes              |     Yes      |      Impacted      |\n",
      "+----------------+--------------------+------------------------------+--------------+--------------------+\n"
     ]
    }
   ],
   "source": [
    "from prettytable import PrettyTable\n",
    "x=PrettyTable()\n",
    "x.field_names=[\"State/U.T.\", \"Agriculture Impact\",\"Supply of Agri-inputs Impact\",\"Labor Impact\",\"APMC Market Impact\"]\n",
    "x.add_row([\"Uttar Pradesh\", \"Yes\", \"Yes\", \"Yes\",\"Impacted\"])\n",
    "x.add_row([\"Maharashtra\", \"Yes\", \"Yes\", \"Yes\",\"Impacted\"])\n",
    "x.add_row([\"Bihar\", \"Yes\", \"Yes\", \"Yes\",\"Impacted\"])\n",
    "x.add_row([\"Madhya Pradesh\", \"Yes\", \"Yes\", \"Yes\",\"Impacted\"])\n",
    "print(x)"
   ]
  },
  {
   "cell_type": "markdown",
   "metadata": {},
   "source": [
    "### Summary of visualization\n",
    "#### 1) The lockdown in response to COVID-19 has seriously disrupted Indian farms.\n",
    "#### 2) Farms have been less profitable amid rising food prices, putting pressure on food security.\n",
    "#### 3) A lack of migrant labor has led to a loss of produce and affected the spring harvest.\n",
    "#### 4) During the lockdown, farmers did not get the right price for their crops.\n"
   ]
  },
  {
   "cell_type": "markdown",
   "metadata": {},
   "source": [
    "### --------------------------------------------------------------------------------------------------------------------------------------------------------------"
   ]
  },
  {
   "cell_type": "markdown",
   "metadata": {},
   "source": [
    "### APMC Market Data Year 2020-21"
   ]
  },
  {
   "cell_type": "markdown",
   "metadata": {},
   "source": [
    "#### Crop Name:- Wheat Maharashtra State APMC Market Data 2020-21"
   ]
  },
  {
   "cell_type": "code",
   "execution_count": 22,
   "metadata": {},
   "outputs": [
    {
     "data": {
      "text/html": [
       "<div>\n",
       "<style scoped>\n",
       "    .dataframe tbody tr th:only-of-type {\n",
       "        vertical-align: middle;\n",
       "    }\n",
       "\n",
       "    .dataframe tbody tr th {\n",
       "        vertical-align: top;\n",
       "    }\n",
       "\n",
       "    .dataframe thead th {\n",
       "        text-align: right;\n",
       "    }\n",
       "</style>\n",
       "<table border=\"1\" class=\"dataframe\">\n",
       "  <thead>\n",
       "    <tr style=\"text-align: right;\">\n",
       "      <th></th>\n",
       "      <th>Market</th>\n",
       "      <th>Arrival_Date</th>\n",
       "      <th>Arrivals</th>\n",
       "      <th>Variety</th>\n",
       "      <th>Minimum_2020Price</th>\n",
       "      <th>Maximum_2020Price</th>\n",
       "      <th>Modal_2020Price</th>\n",
       "    </tr>\n",
       "  </thead>\n",
       "  <tbody>\n",
       "    <tr>\n",
       "      <th>0</th>\n",
       "      <td>Achalpur</td>\n",
       "      <td>2/1/2020</td>\n",
       "      <td>10.0</td>\n",
       "      <td>Other</td>\n",
       "      <td>2180</td>\n",
       "      <td>2300</td>\n",
       "      <td>2240</td>\n",
       "    </tr>\n",
       "    <tr>\n",
       "      <th>1</th>\n",
       "      <td>NaN</td>\n",
       "      <td>9/1/2020</td>\n",
       "      <td>19.0</td>\n",
       "      <td>Other</td>\n",
       "      <td>2220</td>\n",
       "      <td>2400</td>\n",
       "      <td>2310</td>\n",
       "    </tr>\n",
       "    <tr>\n",
       "      <th>2</th>\n",
       "      <td>NaN</td>\n",
       "      <td>16/01/2020</td>\n",
       "      <td>10.0</td>\n",
       "      <td>Other</td>\n",
       "      <td>2250</td>\n",
       "      <td>2400</td>\n",
       "      <td>2325</td>\n",
       "    </tr>\n",
       "    <tr>\n",
       "      <th>3</th>\n",
       "      <td>NaN</td>\n",
       "      <td>23/01/2020</td>\n",
       "      <td>15.0</td>\n",
       "      <td>Other</td>\n",
       "      <td>2080</td>\n",
       "      <td>2300</td>\n",
       "      <td>2190</td>\n",
       "    </tr>\n",
       "    <tr>\n",
       "      <th>4</th>\n",
       "      <td>NaN</td>\n",
       "      <td>27/01/2020</td>\n",
       "      <td>21.0</td>\n",
       "      <td>Other</td>\n",
       "      <td>2050</td>\n",
       "      <td>2250</td>\n",
       "      <td>2150</td>\n",
       "    </tr>\n",
       "  </tbody>\n",
       "</table>\n",
       "</div>"
      ],
      "text/plain": [
       "     Market Arrival_Date  Arrivals Variety  Minimum_2020Price  \\\n",
       "0  Achalpur     2/1/2020      10.0   Other               2180   \n",
       "1       NaN     9/1/2020      19.0   Other               2220   \n",
       "2       NaN   16/01/2020      10.0   Other               2250   \n",
       "3       NaN   23/01/2020      15.0   Other               2080   \n",
       "4       NaN   27/01/2020      21.0   Other               2050   \n",
       "\n",
       "   Maximum_2020Price  Modal_2020Price  \n",
       "0               2300             2240  \n",
       "1               2400             2310  \n",
       "2               2400             2325  \n",
       "3               2300             2190  \n",
       "4               2250             2150  "
      ]
     },
     "execution_count": 22,
     "metadata": {},
     "output_type": "execute_result"
    }
   ],
   "source": [
    "maha_wheat=pd.read_csv(\"Maharashtra_2020_Wheat.csv\")\n",
    "maha_wheat.head(5)"
   ]
  },
  {
   "cell_type": "code",
   "execution_count": 23,
   "metadata": {},
   "outputs": [
    {
     "data": {
      "text/plain": [
       "(17438, 7)"
      ]
     },
     "execution_count": 23,
     "metadata": {},
     "output_type": "execute_result"
    }
   ],
   "source": [
    "maha_wheat.shape"
   ]
  },
  {
   "cell_type": "code",
   "execution_count": 24,
   "metadata": {},
   "outputs": [
    {
     "name": "stdout",
     "output_type": "stream",
     "text": [
      "<class 'pandas.core.frame.DataFrame'>\n",
      "RangeIndex: 17438 entries, 0 to 17437\n",
      "Data columns (total 7 columns):\n",
      " #   Column             Non-Null Count  Dtype  \n",
      "---  ------             --------------  -----  \n",
      " 0   Market             1713 non-null   object \n",
      " 1   Arrival_Date       17022 non-null  object \n",
      " 2   Arrivals           17022 non-null  float64\n",
      " 3   Variety            17377 non-null  object \n",
      " 4   Minimum_2020Price  17438 non-null  int64  \n",
      " 5   Maximum_2020Price  17438 non-null  int64  \n",
      " 6   Modal_2020Price    17438 non-null  int64  \n",
      "dtypes: float64(1), int64(3), object(3)\n",
      "memory usage: 953.8+ KB\n"
     ]
    }
   ],
   "source": [
    "maha_wheat.info()"
   ]
  },
  {
   "cell_type": "code",
   "execution_count": 25,
   "metadata": {},
   "outputs": [
    {
     "data": {
      "image/png": "[encoded data removed]",
      "text/plain": [
       "<Figure size 432x288 with 1 Axes>"
      ]
     },
     "metadata": {
      "needs_background": "light"
     },
     "output_type": "display_data"
    }
   ],
   "source": [
    "sns.boxplot(y=\"Minimum_2020Price\",data=maha_wheat,showfliers=False)\n",
    "plt.show()"
   ]
  },
  {
   "cell_type": "code",
   "execution_count": 26,
   "metadata": {},
   "outputs": [
    {
     "data": {
      "image/png": "[encoded data removed]",
      "text/plain": [
       "<Figure size 432x288 with 1 Axes>"
      ]
     },
     "metadata": {
      "needs_background": "light"
     },
     "output_type": "display_data"
    }
   ],
   "source": [
    "sns.boxplot(y=\"Maximum_2020Price\",data=maha_wheat,showfliers=False)\n",
    "plt.show()"
   ]
  },
  {
   "cell_type": "code",
   "execution_count": 27,
   "metadata": {},
   "outputs": [
    {
     "data": {
      "image/png": "[encoded data removed]",
      "text/plain": [
       "<Figure size 432x288 with 1 Axes>"
      ]
     },
     "metadata": {
      "needs_background": "light"
     },
     "output_type": "display_data"
    }
   ],
   "source": [
    "sns.boxplot(y=\"Modal_2020Price\",data=maha_wheat,showfliers=False)\n",
    "plt.show()"
   ]
  },
  {
   "cell_type": "code",
   "execution_count": 28,
   "metadata": {},
   "outputs": [
    {
     "data": {
      "text/html": [
       "<div>\n",
       "<style scoped>\n",
       "    .dataframe tbody tr th:only-of-type {\n",
       "        vertical-align: middle;\n",
       "    }\n",
       "\n",
       "    .dataframe tbody tr th {\n",
       "        vertical-align: top;\n",
       "    }\n",
       "\n",
       "    .dataframe thead th {\n",
       "        text-align: right;\n",
       "    }\n",
       "</style>\n",
       "<table border=\"1\" class=\"dataframe\">\n",
       "  <thead>\n",
       "    <tr style=\"text-align: right;\">\n",
       "      <th></th>\n",
       "      <th>Market</th>\n",
       "      <th>Arrival_Date</th>\n",
       "      <th>Arrivals</th>\n",
       "      <th>Variety</th>\n",
       "      <th>Minimum_2020Price</th>\n",
       "      <th>Maximum_2020Price</th>\n",
       "      <th>Modal_2020Price</th>\n",
       "    </tr>\n",
       "  </thead>\n",
       "  <tbody>\n",
       "    <tr>\n",
       "      <th>0</th>\n",
       "      <td>Achalpur</td>\n",
       "      <td>2/1/2020</td>\n",
       "      <td>10.0</td>\n",
       "      <td>Other</td>\n",
       "      <td>2180</td>\n",
       "      <td>2300</td>\n",
       "      <td>2240</td>\n",
       "    </tr>\n",
       "    <tr>\n",
       "      <th>1</th>\n",
       "      <td>0</td>\n",
       "      <td>9/1/2020</td>\n",
       "      <td>19.0</td>\n",
       "      <td>Other</td>\n",
       "      <td>2220</td>\n",
       "      <td>2400</td>\n",
       "      <td>2310</td>\n",
       "    </tr>\n",
       "    <tr>\n",
       "      <th>2</th>\n",
       "      <td>0</td>\n",
       "      <td>16/01/2020</td>\n",
       "      <td>10.0</td>\n",
       "      <td>Other</td>\n",
       "      <td>2250</td>\n",
       "      <td>2400</td>\n",
       "      <td>2325</td>\n",
       "    </tr>\n",
       "    <tr>\n",
       "      <th>3</th>\n",
       "      <td>0</td>\n",
       "      <td>23/01/2020</td>\n",
       "      <td>15.0</td>\n",
       "      <td>Other</td>\n",
       "      <td>2080</td>\n",
       "      <td>2300</td>\n",
       "      <td>2190</td>\n",
       "    </tr>\n",
       "    <tr>\n",
       "      <th>4</th>\n",
       "      <td>0</td>\n",
       "      <td>27/01/2020</td>\n",
       "      <td>21.0</td>\n",
       "      <td>Other</td>\n",
       "      <td>2050</td>\n",
       "      <td>2250</td>\n",
       "      <td>2150</td>\n",
       "    </tr>\n",
       "    <tr>\n",
       "      <th>...</th>\n",
       "      <td>...</td>\n",
       "      <td>...</td>\n",
       "      <td>...</td>\n",
       "      <td>...</td>\n",
       "      <td>...</td>\n",
       "      <td>...</td>\n",
       "      <td>...</td>\n",
       "    </tr>\n",
       "    <tr>\n",
       "      <th>17433</th>\n",
       "      <td>0</td>\n",
       "      <td>21/12/2020</td>\n",
       "      <td>2.0</td>\n",
       "      <td>Other</td>\n",
       "      <td>1455</td>\n",
       "      <td>1475</td>\n",
       "      <td>1465</td>\n",
       "    </tr>\n",
       "    <tr>\n",
       "      <th>17434</th>\n",
       "      <td>0</td>\n",
       "      <td>22/12/2020</td>\n",
       "      <td>1.0</td>\n",
       "      <td>Other</td>\n",
       "      <td>1490</td>\n",
       "      <td>1490</td>\n",
       "      <td>1490</td>\n",
       "    </tr>\n",
       "    <tr>\n",
       "      <th>17435</th>\n",
       "      <td>0</td>\n",
       "      <td>23/12/2020</td>\n",
       "      <td>1.0</td>\n",
       "      <td>Other</td>\n",
       "      <td>1300</td>\n",
       "      <td>1475</td>\n",
       "      <td>1388</td>\n",
       "    </tr>\n",
       "    <tr>\n",
       "      <th>17436</th>\n",
       "      <td>0</td>\n",
       "      <td>24/12/2020</td>\n",
       "      <td>2.0</td>\n",
       "      <td>Other</td>\n",
       "      <td>1475</td>\n",
       "      <td>1475</td>\n",
       "      <td>1475</td>\n",
       "    </tr>\n",
       "    <tr>\n",
       "      <th>17437</th>\n",
       "      <td>0</td>\n",
       "      <td>30/12/2020</td>\n",
       "      <td>2.0</td>\n",
       "      <td>Other</td>\n",
       "      <td>1510</td>\n",
       "      <td>1510</td>\n",
       "      <td>1510</td>\n",
       "    </tr>\n",
       "  </tbody>\n",
       "</table>\n",
       "<p>17438 rows × 7 columns</p>\n",
       "</div>"
      ],
      "text/plain": [
       "         Market Arrival_Date  Arrivals Variety  Minimum_2020Price  \\\n",
       "0      Achalpur     2/1/2020      10.0   Other               2180   \n",
       "1             0     9/1/2020      19.0   Other               2220   \n",
       "2             0   16/01/2020      10.0   Other               2250   \n",
       "3             0   23/01/2020      15.0   Other               2080   \n",
       "4             0   27/01/2020      21.0   Other               2050   \n",
       "...         ...          ...       ...     ...                ...   \n",
       "17433         0   21/12/2020       2.0   Other               1455   \n",
       "17434         0   22/12/2020       1.0   Other               1490   \n",
       "17435         0   23/12/2020       1.0   Other               1300   \n",
       "17436         0   24/12/2020       2.0   Other               1475   \n",
       "17437         0   30/12/2020       2.0   Other               1510   \n",
       "\n",
       "       Maximum_2020Price  Modal_2020Price  \n",
       "0                   2300             2240  \n",
       "1                   2400             2310  \n",
       "2                   2400             2325  \n",
       "3                   2300             2190  \n",
       "4                   2250             2150  \n",
       "...                  ...              ...  \n",
       "17433               1475             1465  \n",
       "17434               1490             1490  \n",
       "17435               1475             1388  \n",
       "17436               1475             1475  \n",
       "17437               1510             1510  \n",
       "\n",
       "[17438 rows x 7 columns]"
      ]
     },
     "execution_count": 28,
     "metadata": {},
     "output_type": "execute_result"
    }
   ],
   "source": [
    "maha_wheat['Arrivals'] = maha_wheat['Arrivals'].fillna(0)\n",
    "maha_wheat['Arrivals'] = maha_wheat['Arrivals'].replace(np.nan, 0)\n",
    "maha_wheat.fillna(0)\n",
    "maha_wheat.replace(np.nan, 0)"
   ]
  },
  {
   "cell_type": "code",
   "execution_count": 29,
   "metadata": {},
   "outputs": [],
   "source": [
    "maha_wheat['Arrivals'] = maha_wheat['Arrivals'].astype(int)"
   ]
  },
  {
   "cell_type": "code",
   "execution_count": 30,
   "metadata": {},
   "outputs": [
    {
     "name": "stdout",
     "output_type": "stream",
     "text": [
      "<class 'pandas.core.frame.DataFrame'>\n",
      "RangeIndex: 17438 entries, 0 to 17437\n",
      "Data columns (total 7 columns):\n",
      " #   Column             Non-Null Count  Dtype \n",
      "---  ------             --------------  ----- \n",
      " 0   Market             1713 non-null   object\n",
      " 1   Arrival_Date       17022 non-null  object\n",
      " 2   Arrivals           17438 non-null  int32 \n",
      " 3   Variety            17377 non-null  object\n",
      " 4   Minimum_2020Price  17438 non-null  int64 \n",
      " 5   Maximum_2020Price  17438 non-null  int64 \n",
      " 6   Modal_2020Price    17438 non-null  int64 \n",
      "dtypes: int32(1), int64(3), object(3)\n",
      "memory usage: 885.6+ KB\n"
     ]
    }
   ],
   "source": [
    "maha_wheat.info()"
   ]
  },
  {
   "cell_type": "code",
   "execution_count": 31,
   "metadata": {},
   "outputs": [],
   "source": [
    "maha_wheat_df=maha_wheat.drop(['Market','Arrival_Date','Variety'], axis=1)"
   ]
  },
  {
   "cell_type": "code",
   "execution_count": 32,
   "metadata": {},
   "outputs": [],
   "source": [
    "maha_wheat_df_=maha_wheat_df[:1000]"
   ]
  },
  {
   "cell_type": "code",
   "execution_count": 33,
   "metadata": {},
   "outputs": [
    {
     "data": {
      "text/html": [
       "<div>\n",
       "<style scoped>\n",
       "    .dataframe tbody tr th:only-of-type {\n",
       "        vertical-align: middle;\n",
       "    }\n",
       "\n",
       "    .dataframe tbody tr th {\n",
       "        vertical-align: top;\n",
       "    }\n",
       "\n",
       "    .dataframe thead th {\n",
       "        text-align: right;\n",
       "    }\n",
       "</style>\n",
       "<table border=\"1\" class=\"dataframe\">\n",
       "  <thead>\n",
       "    <tr style=\"text-align: right;\">\n",
       "      <th></th>\n",
       "      <th>Arrivals</th>\n",
       "      <th>Minimum_2020Price</th>\n",
       "      <th>Maximum_2020Price</th>\n",
       "      <th>Modal_2020Price</th>\n",
       "    </tr>\n",
       "  </thead>\n",
       "  <tbody>\n",
       "    <tr>\n",
       "      <th>Arrivals</th>\n",
       "      <td>1.000000</td>\n",
       "      <td>0.339211</td>\n",
       "      <td>0.600791</td>\n",
       "      <td>0.519885</td>\n",
       "    </tr>\n",
       "    <tr>\n",
       "      <th>Minimum_2020Price</th>\n",
       "      <td>0.339211</td>\n",
       "      <td>1.000000</td>\n",
       "      <td>0.630217</td>\n",
       "      <td>0.807395</td>\n",
       "    </tr>\n",
       "    <tr>\n",
       "      <th>Maximum_2020Price</th>\n",
       "      <td>0.600791</td>\n",
       "      <td>0.630217</td>\n",
       "      <td>1.000000</td>\n",
       "      <td>0.901401</td>\n",
       "    </tr>\n",
       "    <tr>\n",
       "      <th>Modal_2020Price</th>\n",
       "      <td>0.519885</td>\n",
       "      <td>0.807395</td>\n",
       "      <td>0.901401</td>\n",
       "      <td>1.000000</td>\n",
       "    </tr>\n",
       "  </tbody>\n",
       "</table>\n",
       "</div>"
      ],
      "text/plain": [
       "                   Arrivals  Minimum_2020Price  Maximum_2020Price  \\\n",
       "Arrivals           1.000000           0.339211           0.600791   \n",
       "Minimum_2020Price  0.339211           1.000000           0.630217   \n",
       "Maximum_2020Price  0.600791           0.630217           1.000000   \n",
       "Modal_2020Price    0.519885           0.807395           0.901401   \n",
       "\n",
       "                   Modal_2020Price  \n",
       "Arrivals                  0.519885  \n",
       "Minimum_2020Price         0.807395  \n",
       "Maximum_2020Price         0.901401  \n",
       "Modal_2020Price           1.000000  "
      ]
     },
     "execution_count": 33,
     "metadata": {},
     "output_type": "execute_result"
    }
   ],
   "source": [
    "corr=maha_wheat_df_.corr()\n",
    "corr\n",
    "\n"
   ]
  },
  {
   "cell_type": "code",
   "execution_count": 65,
   "metadata": {},
   "outputs": [
    {
     "data": {
      "text/plain": [
       "<matplotlib.axes._subplots.AxesSubplot at 0x1ed2221e970>"
      ]
     },
     "execution_count": 65,
     "metadata": {},
     "output_type": "execute_result"
    },
    {
     "data": {
      "image/png": "[encoded data removed]",
      "text/plain": [
       "<Figure size 432x288 with 2 Axes>"
      ]
     },
     "metadata": {
      "needs_background": "light"
     },
     "output_type": "display_data"
    }
   ],
   "source": [
    "sns.heatmap(corr,annot=True)"
   ]
  },
  {
   "cell_type": "code",
   "execution_count": 34,
   "metadata": {},
   "outputs": [
    {
     "data": {
      "text/plain": [
       "LinearRegression()"
      ]
     },
     "execution_count": 34,
     "metadata": {},
     "output_type": "execute_result"
    }
   ],
   "source": [
    "# Simple Linear Regression\n",
    "#Load function from sklearn\n",
    "from sklearn import linear_model\n",
    "# Create linear regression object\n",
    "regr = linear_model.LinearRegression()\n",
    "y = maha_wheat_df_['Maximum_2020Price']\n",
    "x = maha_wheat_df_[['Arrivals']]\n",
    "# Train the model using the training sets\n",
    "regr.fit(x,y)"
   ]
  },
  {
   "cell_type": "code",
   "execution_count": 35,
   "metadata": {},
   "outputs": [
    {
     "data": {
      "text/plain": [
       "array([2.43795129])"
      ]
     },
     "execution_count": 35,
     "metadata": {},
     "output_type": "execute_result"
    }
   ],
   "source": [
    "regr.coef_"
   ]
  },
  {
   "cell_type": "code",
   "execution_count": 36,
   "metadata": {},
   "outputs": [
    {
     "data": {
      "text/plain": [
       "2373.5480919075912"
      ]
     },
     "execution_count": 36,
     "metadata": {},
     "output_type": "execute_result"
    }
   ],
   "source": [
    "regr.intercept_"
   ]
  },
  {
   "cell_type": "code",
   "execution_count": 37,
   "metadata": {},
   "outputs": [],
   "source": [
    "apmc_market=maha_wheat.drop(['Market','Arrival_Date','Variety'], axis=1)"
   ]
  },
  {
   "cell_type": "code",
   "execution_count": 38,
   "metadata": {},
   "outputs": [
    {
     "name": "stdout",
     "output_type": "stream",
     "text": [
      "<class 'pandas.core.frame.DataFrame'>\n",
      "RangeIndex: 17438 entries, 0 to 17437\n",
      "Data columns (total 4 columns):\n",
      " #   Column             Non-Null Count  Dtype\n",
      "---  ------             --------------  -----\n",
      " 0   Arrivals           17438 non-null  int32\n",
      " 1   Minimum_2020Price  17438 non-null  int64\n",
      " 2   Maximum_2020Price  17438 non-null  int64\n",
      " 3   Modal_2020Price    17438 non-null  int64\n",
      "dtypes: int32(1), int64(3)\n",
      "memory usage: 476.9 KB\n"
     ]
    }
   ],
   "source": [
    "apmc_market.info()"
   ]
  },
  {
   "cell_type": "code",
   "execution_count": 39,
   "metadata": {},
   "outputs": [
    {
     "name": "stdout",
     "output_type": "stream",
     "text": [
      "       Arrivals  Minimum_2020Price  Maximum_2020Price  Modal_2020Price  \\\n",
      "17433         2               1455               1475             1465   \n",
      "17434         1               1490               1490             1490   \n",
      "17435         1               1300               1475             1388   \n",
      "17436         2               1475               1475             1475   \n",
      "17437         2               1510               1510             1510   \n",
      "\n",
      "       Prediction  \n",
      "17433         NaN  \n",
      "17434         NaN  \n",
      "17435         NaN  \n",
      "17436         NaN  \n",
      "17437         NaN  \n"
     ]
    }
   ],
   "source": [
    "forecast_out = 30 #'n=30' days\n",
    "\n",
    "#Create another column (the target ) shifted 'n' units up\n",
    "apmc_market['Prediction'] = apmc_market[['Modal_2020Price']].shift(-forecast_out)\n",
    "#print the new data set\n",
    "print(apmc_market.tail())\n"
   ]
  },
  {
   "cell_type": "code",
   "execution_count": 40,
   "metadata": {},
   "outputs": [
    {
     "name": "stdout",
     "output_type": "stream",
     "text": [
      "[[  10 2180 2300 2240]\n",
      " [  19 2220 2400 2310]\n",
      " [  10 2250 2400 2325]\n",
      " ...\n",
      " [   1 1420 2080 1710]\n",
      " [   1 1450 2070 1710]\n",
      " [   7 1450 1851 1530]]\n"
     ]
    }
   ],
   "source": [
    "### Create the independent data set (X)  #######\n",
    "# Convert the dataframe to a numpy array\n",
    "X = np.array(apmc_market.drop(['Prediction'],1))\n",
    "\n",
    "#Remove the last '30' rows\n",
    "X = X[:-forecast_out]\n",
    "print(X)\n"
   ]
  },
  {
   "cell_type": "code",
   "execution_count": 41,
   "metadata": {},
   "outputs": [
    {
     "name": "stdout",
     "output_type": "stream",
     "text": [
      "[2700. 2375. 2425. ... 1388. 1475. 1510.]\n"
     ]
    }
   ],
   "source": [
    "y = np.array(apmc_market['Prediction'])\n",
    "y = y[:-forecast_out]\n",
    "print(y)"
   ]
  },
  {
   "cell_type": "code",
   "execution_count": 42,
   "metadata": {},
   "outputs": [],
   "source": [
    "# Split the data into 80% training and 20% testing\n",
    "x_train, x_test, y_train, y_test = train_test_split(X, y, test_size=0.2)"
   ]
  },
  {
   "cell_type": "code",
   "execution_count": 43,
   "metadata": {},
   "outputs": [
    {
     "data": {
      "text/plain": [
       "LinearRegression()"
      ]
     },
     "execution_count": 43,
     "metadata": {},
     "output_type": "execute_result"
    }
   ],
   "source": [
    "# Create and train the Linear Regression  Model\n",
    "lr = LinearRegression()\n",
    "# Train the model\n",
    "lr.fit(x_train, y_train)"
   ]
  },
  {
   "cell_type": "code",
   "execution_count": 44,
   "metadata": {},
   "outputs": [
    {
     "name": "stdout",
     "output_type": "stream",
     "text": [
      "[[   3 1300 1525 1481]\n",
      " [   8 1201 1821 1480]\n",
      " [  14 1370 1750 1500]\n",
      " [   6 1400 1570 1500]\n",
      " [   1 1490 1571 1500]\n",
      " [  12 1400 1585 1500]\n",
      " [   4 1401 2222 1505]\n",
      " [  10 1400 1819 1500]\n",
      " [   3 1471 1899 1499]\n",
      " [   7 1471 1899 1499]\n",
      " [   2 1391 1601 1480]\n",
      " [   4 1452 1880 1500]\n",
      " [   3 1450 1515 1515]\n",
      " [   2 1427 1450 1427]\n",
      " [   3 1425 1876 1550]\n",
      " [   9 1350 1725 1475]\n",
      " [  11 1300 2000 1500]\n",
      " [   3 1485 1540 1513]\n",
      " [   4 1540 1540 1540]\n",
      " [   1 1530 1530 1530]\n",
      " [   1 1500 1500 1500]\n",
      " [   2 1460 1490 1475]\n",
      " [   2 1485 1520 1503]\n",
      " [   1 1510 1510 1510]\n",
      " [   2 1515 1515 1515]\n",
      " [   2 1455 1475 1465]\n",
      " [   1 1490 1490 1490]\n",
      " [   1 1300 1475 1388]\n",
      " [   2 1475 1475 1475]\n",
      " [   2 1510 1510 1510]]\n"
     ]
    }
   ],
   "source": [
    "# Set x_forecast equal to the last 30 rows of the original data set from Adj. Close column\n",
    "x_forecast = np.array(apmc_market.drop(['Prediction'],1))[-forecast_out:]\n",
    "print(x_forecast)"
   ]
  },
  {
   "cell_type": "code",
   "execution_count": 45,
   "metadata": {},
   "outputs": [
    {
     "name": "stdout",
     "output_type": "stream",
     "text": [
      "[1797.55968371 1794.14919641 1801.31263167 1802.75258052 1804.92538573\n",
      " 1802.53033253 1801.75971151 1801.90545229 1803.31235209 1803.19343207\n",
      " 1799.25036377 1803.07663754 1806.62460139 1791.68421375 1810.82936259\n",
      " 1796.92422239 1799.09407137 1807.00702006 1812.70854824 1810.93786832\n",
      " 1805.35825851 1800.29713908 1805.43135652 1807.21812845 1808.11833341\n",
      " 1798.56450734 1803.49838857 1782.29124752 1800.67885366 1807.18839844]\n"
     ]
    }
   ],
   "source": [
    "lr_prediction = lr.predict(x_forecast)\n",
    "print(lr_prediction)\n"
   ]
  },
  {
   "cell_type": "code",
   "execution_count": 46,
   "metadata": {},
   "outputs": [],
   "source": [
    "X = DataFrame(maha_wheat, columns=['Arrivals'])\n",
    "y = DataFrame(maha_wheat, columns=['Modal_2020Price'])"
   ]
  },
  {
   "cell_type": "code",
   "execution_count": 47,
   "metadata": {},
   "outputs": [
    {
     "data": {
      "image/png": "[encoded data removed]",
      "text/plain": [
       "<Figure size 720x432 with 1 Axes>"
      ]
     },
     "metadata": {
      "needs_background": "light"
     },
     "output_type": "display_data"
    }
   ],
   "source": [
    "plt.figure(figsize=(10,6))\n",
    "plt.scatter(X, y, alpha=0.3)\n",
    "plt.title('Market Data')\n",
    "plt.xlabel('Arrivals')\n",
    "plt.ylabel('Modal_2020Price')\n",
    "plt.show()"
   ]
  },
  {
   "cell_type": "code",
   "execution_count": 48,
   "metadata": {},
   "outputs": [
    {
     "data": {
      "text/plain": [
       "array([1848.00377464])"
      ]
     },
     "execution_count": 48,
     "metadata": {},
     "output_type": "execute_result"
    }
   ],
   "source": [
    "regression = LinearRegression()\n",
    "regression.fit(X, y)\n",
    "regression.coef_    # theta_1\n",
    "#Intercept\n",
    "regression.intercept_"
   ]
  },
  {
   "cell_type": "code",
   "execution_count": 49,
   "metadata": {},
   "outputs": [
    {
     "data": {
      "image/png": "[encoded data removed]",
      "text/plain": [
       "<Figure size 720x432 with 1 Axes>"
      ]
     },
     "metadata": {
      "needs_background": "light"
     },
     "output_type": "display_data"
    }
   ],
   "source": [
    "plt.figure(figsize=(10,6))\n",
    "plt.scatter(X, y, alpha=0.3)\n",
    "\n",
    "# Adding the regression line here:\n",
    "plt.plot(X, regression.predict(X), color='red', linewidth=3)\n",
    "\n",
    "plt.title('Market Data')\n",
    "plt.xlabel('Arrivals')\n",
    "plt.ylabel('Modal_2020Price')\n",
    "plt.show()\n"
   ]
  },
  {
   "cell_type": "markdown",
   "metadata": {},
   "source": [
    "### Time Series Forecasting - ARIMA Model"
   ]
  },
  {
   "cell_type": "code",
   "execution_count": 50,
   "metadata": {},
   "outputs": [
    {
     "name": "stdout",
     "output_type": "stream",
     "text": [
      "Shape of data (1704, 6)\n"
     ]
    },
    {
     "data": {
      "text/html": [
       "<div>\n",
       "<style scoped>\n",
       "    .dataframe tbody tr th:only-of-type {\n",
       "        vertical-align: middle;\n",
       "    }\n",
       "\n",
       "    .dataframe tbody tr th {\n",
       "        vertical-align: top;\n",
       "    }\n",
       "\n",
       "    .dataframe thead th {\n",
       "        text-align: right;\n",
       "    }\n",
       "</style>\n",
       "<table border=\"1\" class=\"dataframe\">\n",
       "  <thead>\n",
       "    <tr style=\"text-align: right;\">\n",
       "      <th></th>\n",
       "      <th>Market</th>\n",
       "      <th>Arrivals</th>\n",
       "      <th>Variety</th>\n",
       "      <th>Minimum_2020Price</th>\n",
       "      <th>Maximum_2020Price</th>\n",
       "      <th>Modal_2020Price</th>\n",
       "    </tr>\n",
       "    <tr>\n",
       "      <th>Arrival_Date</th>\n",
       "      <th></th>\n",
       "      <th></th>\n",
       "      <th></th>\n",
       "      <th></th>\n",
       "      <th></th>\n",
       "      <th></th>\n",
       "    </tr>\n",
       "  </thead>\n",
       "  <tbody>\n",
       "    <tr>\n",
       "      <th>2020-02-01</th>\n",
       "      <td>Achalpur</td>\n",
       "      <td>10.0</td>\n",
       "      <td>Other</td>\n",
       "      <td>2180</td>\n",
       "      <td>2300</td>\n",
       "      <td>2240</td>\n",
       "    </tr>\n",
       "    <tr>\n",
       "      <th>2020-01-01</th>\n",
       "      <td>Ahmednagar</td>\n",
       "      <td>1.0</td>\n",
       "      <td>Other</td>\n",
       "      <td>2650</td>\n",
       "      <td>2700</td>\n",
       "      <td>2675</td>\n",
       "    </tr>\n",
       "    <tr>\n",
       "      <th>2020-01-01</th>\n",
       "      <td>Ahmedpur</td>\n",
       "      <td>1.0</td>\n",
       "      <td>Other</td>\n",
       "      <td>1930</td>\n",
       "      <td>1930</td>\n",
       "      <td>1930</td>\n",
       "    </tr>\n",
       "    <tr>\n",
       "      <th>2020-01-01</th>\n",
       "      <td>Akluj</td>\n",
       "      <td>1.0</td>\n",
       "      <td>Other</td>\n",
       "      <td>2300</td>\n",
       "      <td>2300</td>\n",
       "      <td>2300</td>\n",
       "    </tr>\n",
       "    <tr>\n",
       "      <th>2020-01-01</th>\n",
       "      <td>Akola</td>\n",
       "      <td>6.0</td>\n",
       "      <td>Other</td>\n",
       "      <td>1925</td>\n",
       "      <td>2900</td>\n",
       "      <td>2700</td>\n",
       "    </tr>\n",
       "  </tbody>\n",
       "</table>\n",
       "</div>"
      ],
      "text/plain": [
       "                  Market  Arrivals Variety  Minimum_2020Price  \\\n",
       "Arrival_Date                                                    \n",
       "2020-02-01      Achalpur      10.0   Other               2180   \n",
       "2020-01-01    Ahmednagar       1.0   Other               2650   \n",
       "2020-01-01      Ahmedpur       1.0   Other               1930   \n",
       "2020-01-01         Akluj       1.0   Other               2300   \n",
       "2020-01-01         Akola       6.0   Other               1925   \n",
       "\n",
       "              Maximum_2020Price  Modal_2020Price  \n",
       "Arrival_Date                                      \n",
       "2020-02-01                 2300             2240  \n",
       "2020-01-01                 2700             2675  \n",
       "2020-01-01                 1930             1930  \n",
       "2020-01-01                 2300             2300  \n",
       "2020-01-01                 2900             2700  "
      ]
     },
     "execution_count": 50,
     "metadata": {},
     "output_type": "execute_result"
    }
   ],
   "source": [
    "wheat_data=pd.read_csv('Maharashtra_2020_Wheat.csv',index_col='Arrival_Date',parse_dates=True)\n",
    "wheat_data=wheat_data.dropna()\n",
    "print('Shape of data',wheat_data.shape)\n",
    "wheat_data.head()"
   ]
  },
  {
   "cell_type": "code",
   "execution_count": 51,
   "metadata": {},
   "outputs": [
    {
     "data": {
      "text/plain": [
       "<matplotlib.axes._subplots.AxesSubplot at 0x1ed1f44aa00>"
      ]
     },
     "execution_count": 51,
     "metadata": {},
     "output_type": "execute_result"
    },
    {
     "data": {
      "image/png": "[encoded data removed]",
      "text/plain": [
       "<Figure size 864x360 with 1 Axes>"
      ]
     },
     "metadata": {
      "needs_background": "light"
     },
     "output_type": "display_data"
    }
   ],
   "source": [
    "wheat_data['Modal_2020Price'].plot(figsize=(12,5))"
   ]
  },
  {
   "cell_type": "code",
   "execution_count": 52,
   "metadata": {},
   "outputs": [],
   "source": [
    "from statsmodels.tsa.stattools import adfuller\n",
    "\n",
    "def adf_test(dataset):\n",
    "  dftest = adfuller(dataset, autolag = 'AIC')\n",
    "  print(\"1. ADF : \",dftest[0])\n",
    "  print(\"2. P-Value : \", dftest[1])\n",
    "  print(\"3. Num Of Lags : \", dftest[2])\n",
    "  print(\"4. Num Of Observations Used For ADF Regression and Critical Values Calculation :\", dftest[3])\n",
    "  print(\"5. Critical Values :\")\n",
    "  for key, val in dftest[4].items():\n",
    "      print(\"\\t\",key, \": \", val)"
   ]
  },
  {
   "cell_type": "code",
   "execution_count": 53,
   "metadata": {},
   "outputs": [
    {
     "name": "stdout",
     "output_type": "stream",
     "text": [
      "1. ADF :  -2.916279623546985\n",
      "2. P-Value :  0.04348738648684118\n",
      "3. Num Of Lags :  25\n",
      "4. Num Of Observations Used For ADF Regression and Critical Values Calculation : 1678\n",
      "5. Critical Values :\n",
      "\t 1% :  -3.4342530582756807\n",
      "\t 5% :  -2.8632639794173427\n",
      "\t 10% :  -2.5676878033472508\n"
     ]
    }
   ],
   "source": [
    "adf_test(wheat_data['Modal_2020Price'])"
   ]
  },
  {
   "cell_type": "code",
   "execution_count": 54,
   "metadata": {},
   "outputs": [],
   "source": [
    "from pmdarima import auto_arima\n",
    "# Ignore harmless warnings\n",
    "import warnings\n",
    "warnings.filterwarnings(\"ignore\")"
   ]
  },
  {
   "cell_type": "code",
   "execution_count": 55,
   "metadata": {},
   "outputs": [
    {
     "data": {
      "text/html": [
       "<table class=\"simpletable\">\n",
       "<caption>SARIMAX Results</caption>\n",
       "<tr>\n",
       "  <th>Dep. Variable:</th>           <td>y</td>        <th>  No. Observations:  </th>    <td>1704</td>   \n",
       "</tr>\n",
       "<tr>\n",
       "  <th>Model:</th>           <td>SARIMAX(0, 1, 1)</td> <th>  Log Likelihood     </th> <td>-12371.797</td>\n",
       "</tr>\n",
       "<tr>\n",
       "  <th>Date:</th>            <td>Mon, 31 May 2021</td> <th>  AIC                </th>  <td>24747.593</td>\n",
       "</tr>\n",
       "<tr>\n",
       "  <th>Time:</th>                <td>13:02:43</td>     <th>  BIC                </th>  <td>24758.474</td>\n",
       "</tr>\n",
       "<tr>\n",
       "  <th>Sample:</th>                  <td>0</td>        <th>  HQIC               </th>  <td>24751.621</td>\n",
       "</tr>\n",
       "<tr>\n",
       "  <th></th>                      <td> - 1704</td>     <th>                     </th>      <td> </td>    \n",
       "</tr>\n",
       "<tr>\n",
       "  <th>Covariance Type:</th>        <td>opg</td>       <th>                     </th>      <td> </td>    \n",
       "</tr>\n",
       "</table>\n",
       "<table class=\"simpletable\">\n",
       "<tr>\n",
       "     <td></td>       <th>coef</th>     <th>std err</th>      <th>z</th>      <th>P>|z|</th>  <th>[0.025</th>    <th>0.975]</th>  \n",
       "</tr>\n",
       "<tr>\n",
       "  <th>ma.L1</th>  <td>   -0.9692</td> <td>    0.007</td> <td> -129.942</td> <td> 0.000</td> <td>   -0.984</td> <td>   -0.955</td>\n",
       "</tr>\n",
       "<tr>\n",
       "  <th>sigma2</th> <td> 1.194e+05</td> <td> 1216.008</td> <td>   98.207</td> <td> 0.000</td> <td> 1.17e+05</td> <td> 1.22e+05</td>\n",
       "</tr>\n",
       "</table>\n",
       "<table class=\"simpletable\">\n",
       "<tr>\n",
       "  <th>Ljung-Box (Q):</th>          <td>37.88</td> <th>  Jarque-Bera (JB):  </th> <td>36990.56</td>\n",
       "</tr>\n",
       "<tr>\n",
       "  <th>Prob(Q):</th>                <td>0.57</td>  <th>  Prob(JB):          </th>   <td>0.00</td>  \n",
       "</tr>\n",
       "<tr>\n",
       "  <th>Heteroskedasticity (H):</th> <td>1.61</td>  <th>  Skew:              </th>   <td>3.42</td>  \n",
       "</tr>\n",
       "<tr>\n",
       "  <th>Prob(H) (two-sided):</th>    <td>0.00</td>  <th>  Kurtosis:          </th>   <td>24.78</td> \n",
       "</tr>\n",
       "</table><br/><br/>Warnings:<br/>[1] Covariance matrix calculated using the outer product of gradients (complex-step)."
      ],
      "text/plain": [
       "<class 'statsmodels.iolib.summary.Summary'>\n",
       "\"\"\"\n",
       "                               SARIMAX Results                                \n",
       "==============================================================================\n",
       "Dep. Variable:                      y   No. Observations:                 1704\n",
       "Model:               SARIMAX(0, 1, 1)   Log Likelihood              -12371.797\n",
       "Date:                Mon, 31 May 2021   AIC                          24747.593\n",
       "Time:                        13:02:43   BIC                          24758.474\n",
       "Sample:                             0   HQIC                         24751.621\n",
       "                               - 1704                                         \n",
       "Covariance Type:                  opg                                         \n",
       "==============================================================================\n",
       "                 coef    std err          z      P>|z|      [0.025      0.975]\n",
       "------------------------------------------------------------------------------\n",
       "ma.L1         -0.9692      0.007   -129.942      0.000      -0.984      -0.955\n",
       "sigma2      1.194e+05   1216.008     98.207      0.000    1.17e+05    1.22e+05\n",
       "===================================================================================\n",
       "Ljung-Box (Q):                       37.88   Jarque-Bera (JB):             36990.56\n",
       "Prob(Q):                              0.57   Prob(JB):                         0.00\n",
       "Heteroskedasticity (H):               1.61   Skew:                             3.42\n",
       "Prob(H) (two-sided):                  0.00   Kurtosis:                        24.78\n",
       "===================================================================================\n",
       "\n",
       "Warnings:\n",
       "[1] Covariance matrix calculated using the outer product of gradients (complex-step).\n",
       "\"\"\""
      ]
     },
     "execution_count": 55,
     "metadata": {},
     "output_type": "execute_result"
    }
   ],
   "source": [
    "stepwise_fit = auto_arima(wheat_data['Modal_2020Price'], \n",
    "                          suppress_warnings=True)           \n",
    "\n",
    "stepwise_fit.summary()"
   ]
  },
  {
   "cell_type": "code",
   "execution_count": 56,
   "metadata": {},
   "outputs": [],
   "source": [
    "from statsmodels.tsa.arima_model import ARIMA"
   ]
  },
  {
   "cell_type": "code",
   "execution_count": 57,
   "metadata": {},
   "outputs": [
    {
     "name": "stdout",
     "output_type": "stream",
     "text": [
      "(1704, 6)\n",
      "(1674, 6) (30, 6)\n",
      "Market                Selu\n",
      "Arrivals                 1\n",
      "Variety              Other\n",
      "Minimum_2020Price     1350\n",
      "Maximum_2020Price     1400\n",
      "Modal_2020Price       1350\n",
      "Name: 2020-12-23 00:00:00, dtype: object Market               Yeotmal\n",
      "Arrivals                   3\n",
      "Variety                Other\n",
      "Minimum_2020Price       1485\n",
      "Maximum_2020Price       1540\n",
      "Modal_2020Price         1513\n",
      "Name: 2020-01-12 00:00:00, dtype: object\n"
     ]
    }
   ],
   "source": [
    "print(wheat_data.shape)\n",
    "train=wheat_data.iloc[:-30]\n",
    "test=wheat_data.iloc[-30:]\n",
    "print(train.shape,test.shape)\n",
    "print(test.iloc[0],test.iloc[-1])"
   ]
  },
  {
   "cell_type": "code",
   "execution_count": 58,
   "metadata": {},
   "outputs": [
    {
     "data": {
      "text/html": [
       "<table class=\"simpletable\">\n",
       "<caption>ARMA Model Results</caption>\n",
       "<tr>\n",
       "  <th>Dep. Variable:</th>  <td>Modal_2020Price</td> <th>  No. Observations:  </th>    <td>1674</td>   \n",
       "</tr>\n",
       "<tr>\n",
       "  <th>Model:</th>            <td>ARMA(1, 5)</td>    <th>  Log Likelihood     </th> <td>-12154.787</td>\n",
       "</tr>\n",
       "<tr>\n",
       "  <th>Method:</th>             <td>css-mle</td>     <th>  S.D. of innovations</th>   <td>344.304</td> \n",
       "</tr>\n",
       "<tr>\n",
       "  <th>Date:</th>          <td>Mon, 31 May 2021</td> <th>  AIC                </th>  <td>24325.574</td>\n",
       "</tr>\n",
       "<tr>\n",
       "  <th>Time:</th>              <td>13:02:48</td>     <th>  BIC                </th>  <td>24368.958</td>\n",
       "</tr>\n",
       "<tr>\n",
       "  <th>Sample:</th>                <td>0</td>        <th>  HQIC               </th>  <td>24341.648</td>\n",
       "</tr>\n",
       "<tr>\n",
       "  <th></th>                       <td> </td>        <th>                     </th>      <td> </td>    \n",
       "</tr>\n",
       "</table>\n",
       "<table class=\"simpletable\">\n",
       "<tr>\n",
       "            <td></td>               <th>coef</th>     <th>std err</th>      <th>z</th>      <th>P>|z|</th>  <th>[0.025</th>    <th>0.975]</th>  \n",
       "</tr>\n",
       "<tr>\n",
       "  <th>const</th>                 <td> 1890.3903</td> <td>  111.309</td> <td>   16.983</td> <td> 0.000</td> <td> 1672.228</td> <td> 2108.552</td>\n",
       "</tr>\n",
       "<tr>\n",
       "  <th>ar.L1.Modal_2020Price</th> <td>    0.9976</td> <td>    0.002</td> <td>  461.276</td> <td> 0.000</td> <td>    0.993</td> <td>    1.002</td>\n",
       "</tr>\n",
       "<tr>\n",
       "  <th>ma.L1.Modal_2020Price</th> <td>   -0.9828</td> <td>    0.025</td> <td>  -40.004</td> <td> 0.000</td> <td>   -1.031</td> <td>   -0.935</td>\n",
       "</tr>\n",
       "<tr>\n",
       "  <th>ma.L2.Modal_2020Price</th> <td>    0.0196</td> <td>    0.034</td> <td>    0.571</td> <td> 0.568</td> <td>   -0.048</td> <td>    0.087</td>\n",
       "</tr>\n",
       "<tr>\n",
       "  <th>ma.L3.Modal_2020Price</th> <td>    0.0039</td> <td>    0.034</td> <td>    0.115</td> <td> 0.908</td> <td>   -0.062</td> <td>    0.070</td>\n",
       "</tr>\n",
       "<tr>\n",
       "  <th>ma.L4.Modal_2020Price</th> <td>   -0.0019</td> <td>    0.035</td> <td>   -0.056</td> <td> 0.956</td> <td>   -0.071</td> <td>    0.067</td>\n",
       "</tr>\n",
       "<tr>\n",
       "  <th>ma.L5.Modal_2020Price</th> <td>   -0.0010</td> <td>    0.024</td> <td>   -0.040</td> <td> 0.968</td> <td>   -0.048</td> <td>    0.046</td>\n",
       "</tr>\n",
       "</table>\n",
       "<table class=\"simpletable\">\n",
       "<caption>Roots</caption>\n",
       "<tr>\n",
       "    <td></td>   <th>            Real</th>  <th>         Imaginary</th> <th>         Modulus</th>  <th>        Frequency</th>\n",
       "</tr>\n",
       "<tr>\n",
       "  <th>AR.1</th> <td>           1.0024</td> <td>          +0.0000j</td> <td>           1.0024</td> <td>           0.0000</td>\n",
       "</tr>\n",
       "<tr>\n",
       "  <th>MA.1</th> <td>           1.0401</td> <td>          -0.0000j</td> <td>           1.0401</td> <td>          -0.0000</td>\n",
       "</tr>\n",
       "<tr>\n",
       "  <th>MA.2</th> <td>           3.3669</td> <td>          -3.7275j</td> <td>           5.0230</td> <td>          -0.1331</td>\n",
       "</tr>\n",
       "<tr>\n",
       "  <th>MA.3</th> <td>           3.3669</td> <td>          +3.7275j</td> <td>           5.0230</td> <td>           0.1331</td>\n",
       "</tr>\n",
       "<tr>\n",
       "  <th>MA.4</th> <td>          -4.9056</td> <td>          -3.9848j</td> <td>           6.3201</td> <td>          -0.3914</td>\n",
       "</tr>\n",
       "<tr>\n",
       "  <th>MA.5</th> <td>          -4.9056</td> <td>          +3.9848j</td> <td>           6.3201</td> <td>           0.3914</td>\n",
       "</tr>\n",
       "</table>"
      ],
      "text/plain": [
       "<class 'statsmodels.iolib.summary.Summary'>\n",
       "\"\"\"\n",
       "                              ARMA Model Results                              \n",
       "==============================================================================\n",
       "Dep. Variable:        Modal_2020Price   No. Observations:                 1674\n",
       "Model:                     ARMA(1, 5)   Log Likelihood              -12154.787\n",
       "Method:                       css-mle   S.D. of innovations            344.304\n",
       "Date:                Mon, 31 May 2021   AIC                          24325.574\n",
       "Time:                        13:02:48   BIC                          24368.958\n",
       "Sample:                             0   HQIC                         24341.648\n",
       "                                                                              \n",
       "=========================================================================================\n",
       "                            coef    std err          z      P>|z|      [0.025      0.975]\n",
       "-----------------------------------------------------------------------------------------\n",
       "const                  1890.3903    111.309     16.983      0.000    1672.228    2108.552\n",
       "ar.L1.Modal_2020Price     0.9976      0.002    461.276      0.000       0.993       1.002\n",
       "ma.L1.Modal_2020Price    -0.9828      0.025    -40.004      0.000      -1.031      -0.935\n",
       "ma.L2.Modal_2020Price     0.0196      0.034      0.571      0.568      -0.048       0.087\n",
       "ma.L3.Modal_2020Price     0.0039      0.034      0.115      0.908      -0.062       0.070\n",
       "ma.L4.Modal_2020Price    -0.0019      0.035     -0.056      0.956      -0.071       0.067\n",
       "ma.L5.Modal_2020Price    -0.0010      0.024     -0.040      0.968      -0.048       0.046\n",
       "                                    Roots                                    \n",
       "=============================================================================\n",
       "                  Real          Imaginary           Modulus         Frequency\n",
       "-----------------------------------------------------------------------------\n",
       "AR.1            1.0024           +0.0000j            1.0024            0.0000\n",
       "MA.1            1.0401           -0.0000j            1.0401           -0.0000\n",
       "MA.2            3.3669           -3.7275j            5.0230           -0.1331\n",
       "MA.3            3.3669           +3.7275j            5.0230            0.1331\n",
       "MA.4           -4.9056           -3.9848j            6.3201           -0.3914\n",
       "MA.5           -4.9056           +3.9848j            6.3201            0.3914\n",
       "-----------------------------------------------------------------------------\n",
       "\"\"\""
      ]
     },
     "execution_count": 58,
     "metadata": {},
     "output_type": "execute_result"
    }
   ],
   "source": [
    "from statsmodels.tsa.arima_model import ARIMA\n",
    "model=ARIMA(train['Modal_2020Price'],order=(1,0,5))\n",
    "model=model.fit()\n",
    "model.summary()"
   ]
  },
  {
   "cell_type": "code",
   "execution_count": 59,
   "metadata": {},
   "outputs": [
    {
     "data": {
      "text/plain": [
       "1676.0333333333333"
      ]
     },
     "execution_count": 59,
     "metadata": {},
     "output_type": "execute_result"
    }
   ],
   "source": [
    "test['Modal_2020Price'].mean()"
   ]
  },
  {
   "cell_type": "code",
   "execution_count": 60,
   "metadata": {},
   "outputs": [
    {
     "data": {
      "text/plain": [
       "<matplotlib.axes._subplots.AxesSubplot at 0x1ed20d45fd0>"
      ]
     },
     "execution_count": 60,
     "metadata": {},
     "output_type": "execute_result"
    },
    {
     "data": {
      "image/png": "[encoded data removed]",
      "text/plain": [
       "<Figure size 432x288 with 1 Axes>"
      ]
     },
     "metadata": {
      "needs_background": "light"
     },
     "output_type": "display_data"
    }
   ],
   "source": [
    "start=len(train)\n",
    "end=len(train)+len(test)-1\n",
    "pred=model.predict(start=start,end=end,typ='levels').rename('ARIMA predictions')\n",
    "test['Modal_2020Price'].plot(legend=True)"
   ]
  },
  {
   "cell_type": "code",
   "execution_count": 61,
   "metadata": {},
   "outputs": [
    {
     "name": "stdout",
     "output_type": "stream",
     "text": [
      "392.537405587696\n"
     ]
    }
   ],
   "source": [
    "from sklearn.metrics import mean_squared_error\n",
    "from math import sqrt\n",
    "rmse=sqrt(mean_squared_error(pred,test['Modal_2020Price']))\n",
    "print(rmse)"
   ]
  },
  {
   "cell_type": "code",
   "execution_count": 62,
   "metadata": {},
   "outputs": [],
   "source": [
    "model2=ARIMA(wheat_data['Modal_2020Price'],order=(1,0,5))\n",
    "model2=model2.fit()\n"
   ]
  },
  {
   "cell_type": "code",
   "execution_count": 63,
   "metadata": {},
   "outputs": [
    {
     "name": "stdout",
     "output_type": "stream",
     "text": [
      "2021-05-01    1703.509759\n",
      "2021-05-02    1699.496171\n",
      "2021-05-03    1700.353708\n",
      "2021-05-04    1701.944768\n",
      "2021-05-05    1702.418746\n",
      "2021-05-06    1702.801576\n",
      "2021-05-07    1703.183616\n",
      "2021-05-08    1703.564867\n",
      "2021-05-09    1703.945331\n",
      "2021-05-10    1704.325009\n",
      "2021-05-11    1704.703903\n",
      "2021-05-12    1705.082015\n",
      "2021-05-13    1705.459345\n",
      "2021-05-14    1705.835897\n",
      "2021-05-15    1706.211671\n",
      "2021-05-16    1706.586669\n",
      "2021-05-17    1706.960892\n",
      "2021-05-18    1707.334343\n",
      "2021-05-19    1707.707023\n",
      "2021-05-20    1708.078933\n",
      "2021-05-21    1708.450074\n",
      "2021-05-22    1708.820450\n",
      "2021-05-23    1709.190061\n",
      "2021-05-24    1709.558908\n",
      "2021-05-25    1709.926993\n",
      "2021-05-26    1710.294319\n",
      "2021-05-27    1710.660886\n",
      "2021-05-28    1711.026696\n",
      "2021-05-29    1711.391751\n",
      "2021-05-30    1711.756051\n",
      "2021-05-31    1712.119600\n",
      "Freq: D, Name: ARIMA Predictions, dtype: float64\n"
     ]
    }
   ],
   "source": [
    "index_future_dates=pd.date_range(start='2021-05-01',end='2021-05-31')\n",
    "pred=model2.predict(start=len(wheat_data),end=len(wheat_data)+30,typ='levels').rename('ARIMA Predictions')\n",
    "pred.index=index_future_dates\n",
    "print(pred)"
   ]
  },
  {
   "cell_type": "code",
   "execution_count": 64,
   "metadata": {},
   "outputs": [
    {
     "data": {
      "text/plain": [
       "1706.5387106689805"
      ]
     },
     "execution_count": 64,
     "metadata": {},
     "output_type": "execute_result"
    }
   ],
   "source": [
    "#pred.plot(figsize=(12,5),legend=True)\n",
    "pred.mean()"
   ]
  },
  {
   "cell_type": "code",
   "execution_count": null,
   "metadata": {},
   "outputs": [],
   "source": []
  }
 ],
 "metadata": {
  "kernelspec": {
   "display_name": "Python 3",
   "language": "python",
   "name": "python3"
  },
  "language_info": {
   "codemirror_mode": {
    "name": "ipython",
    "version": 3
   },
   "file_extension": ".py",
   "mimetype": "text/x-python",
   "name": "python",
   "nbconvert_exporter": "python",
   "pygments_lexer": "ipython3",
   "version": "3.8.3"
  }
 },
 "nbformat": 4,
 "nbformat_minor": 4
}
